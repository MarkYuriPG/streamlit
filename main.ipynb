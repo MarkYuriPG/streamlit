{
 "cells": [
  {
   "cell_type": "markdown",
   "id": "ef5ec4c2",
   "metadata": {},
   "source": [
    "# All sagemaker code has been commented , uncommect to use it on sagemaker"
   ]
  },
  {
   "cell_type": "code",
   "execution_count": 1,
   "id": "b9053e67-7417-4d96-9700-ed1cc8cae458",
   "metadata": {
    "tags": []
   },
   "outputs": [],
   "source": [
    "#import boto3\n",
    "#import sagemaker\n",
    "#from sagemaker import get_execution_role\n",
    "import sys\n",
    "import IPython\n",
    "from matplotlib import pyplot as plt\n",
    "import numpy as np\n",
    "import pandas as pd\n",
    "import seaborn as sns\n",
    "import json\n",
    "import time\n",
    "from time import sleep,gmtime,strftime\n",
    "import os\n",
    "import warnings\n",
    "warnings.filterwarnings(\"ignore\")\n"
   ]
  },
  {
   "cell_type": "code",
   "execution_count": 2,
   "id": "da329bcc-a614-476d-ab9b-5e6a4b3d8aa3",
   "metadata": {},
   "outputs": [
    {
     "data": {
      "text/plain": [
       "(5572, 5)"
      ]
     },
     "execution_count": 2,
     "metadata": {},
     "output_type": "execute_result"
    }
   ],
   "source": [
    "data=pd.read_csv(\"rawdata/spam.csv\",encoding=\"ISO-8859-1\")\n",
    "data.shape"
   ]
  },
  {
   "cell_type": "code",
   "execution_count": 3,
   "id": "26dcb232-31ec-4f9c-a5e9-b2a980992f58",
   "metadata": {
    "tags": []
   },
   "outputs": [
    {
     "name": "stdout",
     "output_type": "stream",
     "text": [
      "<class 'pandas.core.frame.DataFrame'>\n",
      "RangeIndex: 5572 entries, 0 to 5571\n",
      "Data columns (total 5 columns):\n",
      " #   Column      Non-Null Count  Dtype \n",
      "---  ------      --------------  ----- \n",
      " 0   v1          5572 non-null   object\n",
      " 1   v2          5572 non-null   object\n",
      " 2   Unnamed: 2  50 non-null     object\n",
      " 3   Unnamed: 3  12 non-null     object\n",
      " 4   Unnamed: 4  6 non-null      object\n",
      "dtypes: object(5)\n",
      "memory usage: 217.8+ KB\n"
     ]
    }
   ],
   "source": [
    "data.info()\n"
   ]
  },
  {
   "cell_type": "markdown",
   "id": "19998c01",
   "metadata": {},
   "source": [
    "### Inference - our data has 5 columns and 5572 rows , all of type object  "
   ]
  },
  {
   "cell_type": "markdown",
   "id": "ed471852-ad0e-48c6-bccc-e427cca680f8",
   "metadata": {
    "tags": []
   },
   "source": [
    "<div class=\"alert alert-info\" style=\"background-color:#006a79; color:white; padding:0px 10px; border-radius:5px;\"><h2 style='margin:10px 5px'>2.Data Cleaning </h2>\n",
    "</div>"
   ]
  },
  {
   "cell_type": "code",
   "execution_count": 4,
   "id": "2cefa8b1-8697-4bda-890c-ff575ebde582",
   "metadata": {
    "tags": []
   },
   "outputs": [
    {
     "data": {
      "text/html": [
       "<div>\n",
       "<style scoped>\n",
       "    .dataframe tbody tr th:only-of-type {\n",
       "        vertical-align: middle;\n",
       "    }\n",
       "\n",
       "    .dataframe tbody tr th {\n",
       "        vertical-align: top;\n",
       "    }\n",
       "\n",
       "    .dataframe thead th {\n",
       "        text-align: right;\n",
       "    }\n",
       "</style>\n",
       "<table border=\"1\" class=\"dataframe\">\n",
       "  <thead>\n",
       "    <tr style=\"text-align: right;\">\n",
       "      <th></th>\n",
       "      <th>label</th>\n",
       "      <th>text</th>\n",
       "      <th>Unnamed: 2</th>\n",
       "      <th>Unnamed: 3</th>\n",
       "      <th>Unnamed: 4</th>\n",
       "    </tr>\n",
       "  </thead>\n",
       "  <tbody>\n",
       "    <tr>\n",
       "      <th>0</th>\n",
       "      <td>ham</td>\n",
       "      <td>Go until jurong point, crazy.. Available only ...</td>\n",
       "      <td>NaN</td>\n",
       "      <td>NaN</td>\n",
       "      <td>NaN</td>\n",
       "    </tr>\n",
       "    <tr>\n",
       "      <th>1</th>\n",
       "      <td>ham</td>\n",
       "      <td>Ok lar... Joking wif u oni...</td>\n",
       "      <td>NaN</td>\n",
       "      <td>NaN</td>\n",
       "      <td>NaN</td>\n",
       "    </tr>\n",
       "    <tr>\n",
       "      <th>2</th>\n",
       "      <td>spam</td>\n",
       "      <td>Free entry in 2 a wkly comp to win FA Cup fina...</td>\n",
       "      <td>NaN</td>\n",
       "      <td>NaN</td>\n",
       "      <td>NaN</td>\n",
       "    </tr>\n",
       "    <tr>\n",
       "      <th>3</th>\n",
       "      <td>ham</td>\n",
       "      <td>U dun say so early hor... U c already then say...</td>\n",
       "      <td>NaN</td>\n",
       "      <td>NaN</td>\n",
       "      <td>NaN</td>\n",
       "    </tr>\n",
       "    <tr>\n",
       "      <th>4</th>\n",
       "      <td>ham</td>\n",
       "      <td>Nah I don't think he goes to usf, he lives aro...</td>\n",
       "      <td>NaN</td>\n",
       "      <td>NaN</td>\n",
       "      <td>NaN</td>\n",
       "    </tr>\n",
       "  </tbody>\n",
       "</table>\n",
       "</div>"
      ],
      "text/plain": [
       "  label                                               text Unnamed: 2  \\\n",
       "0   ham  Go until jurong point, crazy.. Available only ...        NaN   \n",
       "1   ham                      Ok lar... Joking wif u oni...        NaN   \n",
       "2  spam  Free entry in 2 a wkly comp to win FA Cup fina...        NaN   \n",
       "3   ham  U dun say so early hor... U c already then say...        NaN   \n",
       "4   ham  Nah I don't think he goes to usf, he lives aro...        NaN   \n",
       "\n",
       "  Unnamed: 3 Unnamed: 4  \n",
       "0        NaN        NaN  \n",
       "1        NaN        NaN  \n",
       "2        NaN        NaN  \n",
       "3        NaN        NaN  \n",
       "4        NaN        NaN  "
      ]
     },
     "execution_count": 4,
     "metadata": {},
     "output_type": "execute_result"
    }
   ],
   "source": [
    "#lets rename the column names and give them more understanding name\n",
    "data.rename(columns={\"v1\":'label',\"v2\":\"text\"},inplace=True)\n",
    "data.head()"
   ]
  },
  {
   "cell_type": "code",
   "execution_count": 5,
   "id": "50bd8302-1945-45dc-9fb1-56d6f60f3056",
   "metadata": {
    "tags": []
   },
   "outputs": [
    {
     "data": {
      "text/plain": [
       "label            0\n",
       "text             0\n",
       "Unnamed: 2    5522\n",
       "Unnamed: 3    5560\n",
       "Unnamed: 4    5566\n",
       "dtype: int64"
      ]
     },
     "execution_count": 5,
     "metadata": {},
     "output_type": "execute_result"
    }
   ],
   "source": [
    "#lets check the missing value counts\n",
    "data.isna().sum()"
   ]
  },
  {
   "cell_type": "markdown",
   "id": "54eef1ec-bacf-40ce-b60b-64961d1dea6c",
   "metadata": {},
   "source": [
    "### Data Imputation Inference - this looks unnamed2,3,4 column has more than 99% data missing , lets drop this features "
   ]
  },
  {
   "cell_type": "code",
   "execution_count": 6,
   "id": "14c67093-7c79-4ddc-8ebd-841488a76735",
   "metadata": {
    "tags": []
   },
   "outputs": [],
   "source": [
    "data.drop(columns=['Unnamed: 2','Unnamed: 3','Unnamed: 4'],inplace=True)"
   ]
  },
  {
   "cell_type": "code",
   "execution_count": 7,
   "id": "a972259f-f3e2-4012-bed0-78cb825a4a93",
   "metadata": {
    "tags": []
   },
   "outputs": [
    {
     "data": {
      "text/html": [
       "<div>\n",
       "<style scoped>\n",
       "    .dataframe tbody tr th:only-of-type {\n",
       "        vertical-align: middle;\n",
       "    }\n",
       "\n",
       "    .dataframe tbody tr th {\n",
       "        vertical-align: top;\n",
       "    }\n",
       "\n",
       "    .dataframe thead th {\n",
       "        text-align: right;\n",
       "    }\n",
       "</style>\n",
       "<table border=\"1\" class=\"dataframe\">\n",
       "  <thead>\n",
       "    <tr style=\"text-align: right;\">\n",
       "      <th></th>\n",
       "      <th>label</th>\n",
       "      <th>text</th>\n",
       "    </tr>\n",
       "  </thead>\n",
       "  <tbody>\n",
       "    <tr>\n",
       "      <th>0</th>\n",
       "      <td>0</td>\n",
       "      <td>Go until jurong point, crazy.. Available only ...</td>\n",
       "    </tr>\n",
       "    <tr>\n",
       "      <th>1</th>\n",
       "      <td>0</td>\n",
       "      <td>Ok lar... Joking wif u oni...</td>\n",
       "    </tr>\n",
       "    <tr>\n",
       "      <th>2</th>\n",
       "      <td>1</td>\n",
       "      <td>Free entry in 2 a wkly comp to win FA Cup fina...</td>\n",
       "    </tr>\n",
       "    <tr>\n",
       "      <th>3</th>\n",
       "      <td>0</td>\n",
       "      <td>U dun say so early hor... U c already then say...</td>\n",
       "    </tr>\n",
       "    <tr>\n",
       "      <th>4</th>\n",
       "      <td>0</td>\n",
       "      <td>Nah I don't think he goes to usf, he lives aro...</td>\n",
       "    </tr>\n",
       "  </tbody>\n",
       "</table>\n",
       "</div>"
      ],
      "text/plain": [
       "   label                                               text\n",
       "0      0  Go until jurong point, crazy.. Available only ...\n",
       "1      0                      Ok lar... Joking wif u oni...\n",
       "2      1  Free entry in 2 a wkly comp to win FA Cup fina...\n",
       "3      0  U dun say so early hor... U c already then say...\n",
       "4      0  Nah I don't think he goes to usf, he lives aro..."
      ]
     },
     "execution_count": 7,
     "metadata": {},
     "output_type": "execute_result"
    }
   ],
   "source": [
    "#feature encoding - converting target categorical column into numerical\n",
    "\n",
    "data['label']=data['label'].map({\"ham\":0,\"spam\":1})\n",
    "data.head()"
   ]
  },
  {
   "cell_type": "code",
   "execution_count": 8,
   "id": "85dc4afc-0d7c-47af-9e50-7e039463116e",
   "metadata": {
    "tags": []
   },
   "outputs": [
    {
     "data": {
      "text/html": [
       "<div>\n",
       "<style scoped>\n",
       "    .dataframe tbody tr th:only-of-type {\n",
       "        vertical-align: middle;\n",
       "    }\n",
       "\n",
       "    .dataframe tbody tr th {\n",
       "        vertical-align: top;\n",
       "    }\n",
       "\n",
       "    .dataframe thead th {\n",
       "        text-align: right;\n",
       "    }\n",
       "</style>\n",
       "<table border=\"1\" class=\"dataframe\">\n",
       "  <thead>\n",
       "    <tr style=\"text-align: right;\">\n",
       "      <th></th>\n",
       "      <th>label</th>\n",
       "      <th>text</th>\n",
       "    </tr>\n",
       "  </thead>\n",
       "  <tbody>\n",
       "    <tr>\n",
       "      <th>0</th>\n",
       "      <td>0</td>\n",
       "      <td>Go until jurong point, crazy.. Available only ...</td>\n",
       "    </tr>\n",
       "    <tr>\n",
       "      <th>1</th>\n",
       "      <td>0</td>\n",
       "      <td>Ok lar... Joking wif u oni...</td>\n",
       "    </tr>\n",
       "    <tr>\n",
       "      <th>2</th>\n",
       "      <td>1</td>\n",
       "      <td>Free entry in 2 a wkly comp to win FA Cup fina...</td>\n",
       "    </tr>\n",
       "    <tr>\n",
       "      <th>3</th>\n",
       "      <td>0</td>\n",
       "      <td>U dun say so early hor... U c already then say...</td>\n",
       "    </tr>\n",
       "    <tr>\n",
       "      <th>4</th>\n",
       "      <td>0</td>\n",
       "      <td>Nah I don't think he goes to usf, he lives aro...</td>\n",
       "    </tr>\n",
       "    <tr>\n",
       "      <th>...</th>\n",
       "      <td>...</td>\n",
       "      <td>...</td>\n",
       "    </tr>\n",
       "    <tr>\n",
       "      <th>5567</th>\n",
       "      <td>1</td>\n",
       "      <td>This is the 2nd time we have tried 2 contact u...</td>\n",
       "    </tr>\n",
       "    <tr>\n",
       "      <th>5568</th>\n",
       "      <td>0</td>\n",
       "      <td>Will Ì_ b going to esplanade fr home?</td>\n",
       "    </tr>\n",
       "    <tr>\n",
       "      <th>5569</th>\n",
       "      <td>0</td>\n",
       "      <td>Pity, * was in mood for that. So...any other s...</td>\n",
       "    </tr>\n",
       "    <tr>\n",
       "      <th>5570</th>\n",
       "      <td>0</td>\n",
       "      <td>The guy did some bitching but I acted like i'd...</td>\n",
       "    </tr>\n",
       "    <tr>\n",
       "      <th>5571</th>\n",
       "      <td>0</td>\n",
       "      <td>Rofl. Its true to its name</td>\n",
       "    </tr>\n",
       "  </tbody>\n",
       "</table>\n",
       "<p>5169 rows × 2 columns</p>\n",
       "</div>"
      ],
      "text/plain": [
       "      label                                               text\n",
       "0         0  Go until jurong point, crazy.. Available only ...\n",
       "1         0                      Ok lar... Joking wif u oni...\n",
       "2         1  Free entry in 2 a wkly comp to win FA Cup fina...\n",
       "3         0  U dun say so early hor... U c already then say...\n",
       "4         0  Nah I don't think he goes to usf, he lives aro...\n",
       "...     ...                                                ...\n",
       "5567      1  This is the 2nd time we have tried 2 contact u...\n",
       "5568      0              Will Ì_ b going to esplanade fr home?\n",
       "5569      0  Pity, * was in mood for that. So...any other s...\n",
       "5570      0  The guy did some bitching but I acted like i'd...\n",
       "5571      0                         Rofl. Its true to its name\n",
       "\n",
       "[5169 rows x 2 columns]"
      ]
     },
     "execution_count": 8,
     "metadata": {},
     "output_type": "execute_result"
    }
   ],
   "source": [
    "#lets check & remove the duplicates\n",
    "data.duplicated().sum()\n",
    "data.drop_duplicates(keep='first')"
   ]
  },
  {
   "cell_type": "markdown",
   "id": "e6bb284b",
   "metadata": {},
   "source": [
    "### Inference  - after cleaning the missing values and duplicate values , we have finally 5169 rows and 2 columns , here label column is our target variable and text column has sms text"
   ]
  },
  {
   "cell_type": "markdown",
   "id": "413e4d96-5461-4cfc-84e7-82a35b72739c",
   "metadata": {
    "tags": []
   },
   "source": [
    "<div class=\"alert alert-info\" style=\"background-color:#006a79; color:white; padding:0px 10px; border-radius:5px;\"><h2 style='margin:10px 5px'>3.EDA </h2>\n",
    "</div>"
   ]
  },
  {
   "cell_type": "code",
   "execution_count": 9,
   "id": "6f18a9dd-26d3-41fe-8927-b669fcc61e22",
   "metadata": {
    "tags": []
   },
   "outputs": [
    {
     "data": {
      "image/png": "[encoded data removed]",
      "text/plain": [
       "<Figure size 640x480 with 1 Axes>"
      ]
     },
     "metadata": {},
     "output_type": "display_data"
    }
   ],
   "source": [
    "#lets check the counts of label variable \n",
    "#plt.figure(figsize=(12,6))\n",
    "data_eda=data.copy()\n",
    "sns.countplot(data=data_eda,y='label')\n",
    "plt.xlabel(\"Label\")\n",
    "\n",
    "plt.show()\n",
    "import warnings\n",
    "warnings.filterwarnings(\"ignore\")"
   ]
  },
  {
   "cell_type": "markdown",
   "id": "7563b804-8812-4b20-b1da-7774be41fe17",
   "metadata": {},
   "source": [
    "### Inference - label class is highly imbalanced "
   ]
  },
  {
   "cell_type": "markdown",
   "id": "fa3e580f",
   "metadata": {},
   "source": [
    "##### understand the sms text to check how many words, sentence and characters are present in each text "
   ]
  },
  {
   "cell_type": "code",
   "execution_count": 10,
   "id": "8a35c813-b1ef-4a06-90f9-a50a5fe79e2b",
   "metadata": {},
   "outputs": [
    {
     "name": "stderr",
     "output_type": "stream",
     "text": [
      "[nltk_data] Downloading package punkt to\n",
      "[nltk_data]     C:\\Users\\karlj\\AppData\\Roaming\\nltk_data...\n",
      "[nltk_data]   Package punkt is already up-to-date!\n"
     ]
    },
    {
     "data": {
      "text/plain": [
       "True"
      ]
     },
     "execution_count": 10,
     "metadata": {},
     "output_type": "execute_result"
    }
   ],
   "source": [
    "\n",
    "#!pip install nltk   #--install the packages for first time\n",
    "import nltk\n",
    "nltk.download('punkt')\n",
    "\n",
    "#import nltk: This line imports the NLTK library into your Python environment. \n",
    "# NLTK provides various tools and resources for working with human language data.\n",
    "\n",
    "# nltk.download('punkt'): \n",
    "# The 'punkt' tokenizer is used for tokenization, which means breaking text into individual words or sentences (tokenizing them) "
   ]
  },
  {
   "cell_type": "code",
   "execution_count": 11,
   "id": "99bf70fa-e191-4f14-83ab-2871fa38f81d",
   "metadata": {
    "tags": []
   },
   "outputs": [
    {
     "data": {
      "text/html": [
       "<div>\n",
       "<style scoped>\n",
       "    .dataframe tbody tr th:only-of-type {\n",
       "        vertical-align: middle;\n",
       "    }\n",
       "\n",
       "    .dataframe tbody tr th {\n",
       "        vertical-align: top;\n",
       "    }\n",
       "\n",
       "    .dataframe thead th {\n",
       "        text-align: right;\n",
       "    }\n",
       "</style>\n",
       "<table border=\"1\" class=\"dataframe\">\n",
       "  <thead>\n",
       "    <tr style=\"text-align: right;\">\n",
       "      <th></th>\n",
       "      <th>label</th>\n",
       "      <th>num_characters</th>\n",
       "      <th>num_words</th>\n",
       "      <th>num_sentences</th>\n",
       "    </tr>\n",
       "  </thead>\n",
       "  <tbody>\n",
       "    <tr>\n",
       "      <th>count</th>\n",
       "      <td>5572.000000</td>\n",
       "      <td>5572.000000</td>\n",
       "      <td>5572.000000</td>\n",
       "      <td>5572.000000</td>\n",
       "    </tr>\n",
       "    <tr>\n",
       "      <th>mean</th>\n",
       "      <td>0.134063</td>\n",
       "      <td>80.118808</td>\n",
       "      <td>18.699390</td>\n",
       "      <td>1.996411</td>\n",
       "    </tr>\n",
       "    <tr>\n",
       "      <th>std</th>\n",
       "      <td>0.340751</td>\n",
       "      <td>59.690841</td>\n",
       "      <td>13.741932</td>\n",
       "      <td>1.520159</td>\n",
       "    </tr>\n",
       "    <tr>\n",
       "      <th>min</th>\n",
       "      <td>0.000000</td>\n",
       "      <td>2.000000</td>\n",
       "      <td>1.000000</td>\n",
       "      <td>1.000000</td>\n",
       "    </tr>\n",
       "    <tr>\n",
       "      <th>25%</th>\n",
       "      <td>0.000000</td>\n",
       "      <td>36.000000</td>\n",
       "      <td>9.000000</td>\n",
       "      <td>1.000000</td>\n",
       "    </tr>\n",
       "    <tr>\n",
       "      <th>50%</th>\n",
       "      <td>0.000000</td>\n",
       "      <td>61.000000</td>\n",
       "      <td>15.000000</td>\n",
       "      <td>1.500000</td>\n",
       "    </tr>\n",
       "    <tr>\n",
       "      <th>75%</th>\n",
       "      <td>0.000000</td>\n",
       "      <td>121.000000</td>\n",
       "      <td>27.000000</td>\n",
       "      <td>2.000000</td>\n",
       "    </tr>\n",
       "    <tr>\n",
       "      <th>max</th>\n",
       "      <td>1.000000</td>\n",
       "      <td>910.000000</td>\n",
       "      <td>220.000000</td>\n",
       "      <td>38.000000</td>\n",
       "    </tr>\n",
       "  </tbody>\n",
       "</table>\n",
       "</div>"
      ],
      "text/plain": [
       "             label  num_characters    num_words  num_sentences\n",
       "count  5572.000000     5572.000000  5572.000000    5572.000000\n",
       "mean      0.134063       80.118808    18.699390       1.996411\n",
       "std       0.340751       59.690841    13.741932       1.520159\n",
       "min       0.000000        2.000000     1.000000       1.000000\n",
       "25%       0.000000       36.000000     9.000000       1.000000\n",
       "50%       0.000000       61.000000    15.000000       1.500000\n",
       "75%       0.000000      121.000000    27.000000       2.000000\n",
       "max       1.000000      910.000000   220.000000      38.000000"
      ]
     },
     "execution_count": 11,
     "metadata": {},
     "output_type": "execute_result"
    }
   ],
   "source": [
    "data_eda['num_characters']=data_eda['text'].apply(len) #getting the length of each sentence usinh chracters len\n",
    "data_eda['num_words']=data_eda['text'].apply(lambda x : len(nltk.word_tokenize(x))) #getting the words count in each sentence\n",
    "data_eda['num_sentences']=data_eda['text'].apply(lambda x:len(nltk.sent_tokenize(x)))\n",
    "data_eda.describe()\n"
   ]
  },
  {
   "cell_type": "code",
   "execution_count": 12,
   "id": "4e5d65ba-6d1d-41c3-b833-39c4478d5005",
   "metadata": {
    "tags": []
   },
   "outputs": [
    {
     "data": {
      "text/html": [
       "<div>\n",
       "<style scoped>\n",
       "    .dataframe tbody tr th:only-of-type {\n",
       "        vertical-align: middle;\n",
       "    }\n",
       "\n",
       "    .dataframe tbody tr th {\n",
       "        vertical-align: top;\n",
       "    }\n",
       "\n",
       "    .dataframe thead th {\n",
       "        text-align: right;\n",
       "    }\n",
       "</style>\n",
       "<table border=\"1\" class=\"dataframe\">\n",
       "  <thead>\n",
       "    <tr style=\"text-align: right;\">\n",
       "      <th></th>\n",
       "      <th>label</th>\n",
       "      <th>0</th>\n",
       "      <th>1</th>\n",
       "    </tr>\n",
       "  </thead>\n",
       "  <tbody>\n",
       "    <tr>\n",
       "      <th rowspan=\"8\" valign=\"top\">num_characters</th>\n",
       "      <th>count</th>\n",
       "      <td>4825.000000</td>\n",
       "      <td>747.000000</td>\n",
       "    </tr>\n",
       "    <tr>\n",
       "      <th>mean</th>\n",
       "      <td>71.023627</td>\n",
       "      <td>138.866131</td>\n",
       "    </tr>\n",
       "    <tr>\n",
       "      <th>std</th>\n",
       "      <td>58.016023</td>\n",
       "      <td>29.183082</td>\n",
       "    </tr>\n",
       "    <tr>\n",
       "      <th>min</th>\n",
       "      <td>2.000000</td>\n",
       "      <td>13.000000</td>\n",
       "    </tr>\n",
       "    <tr>\n",
       "      <th>25%</th>\n",
       "      <td>33.000000</td>\n",
       "      <td>132.500000</td>\n",
       "    </tr>\n",
       "    <tr>\n",
       "      <th>50%</th>\n",
       "      <td>52.000000</td>\n",
       "      <td>149.000000</td>\n",
       "    </tr>\n",
       "    <tr>\n",
       "      <th>75%</th>\n",
       "      <td>92.000000</td>\n",
       "      <td>157.000000</td>\n",
       "    </tr>\n",
       "    <tr>\n",
       "      <th>max</th>\n",
       "      <td>910.000000</td>\n",
       "      <td>224.000000</td>\n",
       "    </tr>\n",
       "    <tr>\n",
       "      <th rowspan=\"8\" valign=\"top\">num_words</th>\n",
       "      <th>count</th>\n",
       "      <td>4825.000000</td>\n",
       "      <td>747.000000</td>\n",
       "    </tr>\n",
       "    <tr>\n",
       "      <th>mean</th>\n",
       "      <td>17.276269</td>\n",
       "      <td>27.891566</td>\n",
       "    </tr>\n",
       "    <tr>\n",
       "      <th>std</th>\n",
       "      <td>13.988585</td>\n",
       "      <td>6.867007</td>\n",
       "    </tr>\n",
       "    <tr>\n",
       "      <th>min</th>\n",
       "      <td>1.000000</td>\n",
       "      <td>2.000000</td>\n",
       "    </tr>\n",
       "    <tr>\n",
       "      <th>25%</th>\n",
       "      <td>8.000000</td>\n",
       "      <td>25.000000</td>\n",
       "    </tr>\n",
       "    <tr>\n",
       "      <th>50%</th>\n",
       "      <td>13.000000</td>\n",
       "      <td>29.000000</td>\n",
       "    </tr>\n",
       "    <tr>\n",
       "      <th>75%</th>\n",
       "      <td>22.000000</td>\n",
       "      <td>32.000000</td>\n",
       "    </tr>\n",
       "    <tr>\n",
       "      <th>max</th>\n",
       "      <td>220.000000</td>\n",
       "      <td>46.000000</td>\n",
       "    </tr>\n",
       "    <tr>\n",
       "      <th rowspan=\"8\" valign=\"top\">num_sentences</th>\n",
       "      <th>count</th>\n",
       "      <td>4825.000000</td>\n",
       "      <td>747.000000</td>\n",
       "    </tr>\n",
       "    <tr>\n",
       "      <th>mean</th>\n",
       "      <td>1.837720</td>\n",
       "      <td>3.021419</td>\n",
       "    </tr>\n",
       "    <tr>\n",
       "      <th>std</th>\n",
       "      <td>1.454388</td>\n",
       "      <td>1.537580</td>\n",
       "    </tr>\n",
       "    <tr>\n",
       "      <th>min</th>\n",
       "      <td>1.000000</td>\n",
       "      <td>1.000000</td>\n",
       "    </tr>\n",
       "    <tr>\n",
       "      <th>25%</th>\n",
       "      <td>1.000000</td>\n",
       "      <td>2.000000</td>\n",
       "    </tr>\n",
       "    <tr>\n",
       "      <th>50%</th>\n",
       "      <td>1.000000</td>\n",
       "      <td>3.000000</td>\n",
       "    </tr>\n",
       "    <tr>\n",
       "      <th>75%</th>\n",
       "      <td>2.000000</td>\n",
       "      <td>4.000000</td>\n",
       "    </tr>\n",
       "    <tr>\n",
       "      <th>max</th>\n",
       "      <td>38.000000</td>\n",
       "      <td>9.000000</td>\n",
       "    </tr>\n",
       "  </tbody>\n",
       "</table>\n",
       "</div>"
      ],
      "text/plain": [
       "label                           0           1\n",
       "num_characters count  4825.000000  747.000000\n",
       "               mean     71.023627  138.866131\n",
       "               std      58.016023   29.183082\n",
       "               min       2.000000   13.000000\n",
       "               25%      33.000000  132.500000\n",
       "               50%      52.000000  149.000000\n",
       "               75%      92.000000  157.000000\n",
       "               max     910.000000  224.000000\n",
       "num_words      count  4825.000000  747.000000\n",
       "               mean     17.276269   27.891566\n",
       "               std      13.988585    6.867007\n",
       "               min       1.000000    2.000000\n",
       "               25%       8.000000   25.000000\n",
       "               50%      13.000000   29.000000\n",
       "               75%      22.000000   32.000000\n",
       "               max     220.000000   46.000000\n",
       "num_sentences  count  4825.000000  747.000000\n",
       "               mean      1.837720    3.021419\n",
       "               std       1.454388    1.537580\n",
       "               min       1.000000    1.000000\n",
       "               25%       1.000000    2.000000\n",
       "               50%       1.000000    3.000000\n",
       "               75%       2.000000    4.000000\n",
       "               max      38.000000    9.000000"
      ]
     },
     "execution_count": 12,
     "metadata": {},
     "output_type": "execute_result"
    }
   ],
   "source": [
    "#spam and ham messages count as per num_chracters,words, sentences\n",
    "data_eda.groupby('label')[['num_characters','num_words','num_sentences']].describe().T"
   ]
  },
  {
   "cell_type": "code",
   "execution_count": 13,
   "id": "66ba318c-2078-4010-ae31-390cdfa37b1f",
   "metadata": {
    "tags": []
   },
   "outputs": [
    {
     "data": {
      "text/plain": [
       "<Axes: xlabel='num_sentences', ylabel='Count'>"
      ]
     },
     "execution_count": 13,
     "metadata": {},
     "output_type": "execute_result"
    },
    {
     "data": {
      "image/png": "[encoded data removed]",
      "text/plain": [
       "<Figure size 1500x500 with 3 Axes>"
      ]
     },
     "metadata": {},
     "output_type": "display_data"
    }
   ],
   "source": [
    "#visualize the histplot \n",
    "fix,ax=plt.subplots(nrows=1,ncols=3,figsize=(15,5))\n",
    "sns.histplot(data=data_eda,x='num_characters',hue='label',ax=ax[0])\n",
    "sns.histplot(data=data_eda,x='num_words',hue='label',ax=ax[1])\n",
    "sns.histplot(data=data_eda,x='num_sentences',hue='label',ax=ax[2],bins=50,multiple='stack')"
   ]
  },
  {
   "cell_type": "code",
   "execution_count": 14,
   "id": "c5bfdc28-2676-4c54-9465-5337e06cb646",
   "metadata": {
    "tags": []
   },
   "outputs": [
    {
     "data": {
      "text/plain": [
       "<seaborn.axisgrid.PairGrid at 0x18ee6ae1f10>"
      ]
     },
     "execution_count": 14,
     "metadata": {},
     "output_type": "execute_result"
    },
    {
     "data": {
      "image/png": "[encoded data removed]",
      "text/plain": [
       "<Figure size 808.875x750 with 12 Axes>"
      ]
     },
     "metadata": {},
     "output_type": "display_data"
    }
   ],
   "source": [
    "sns.pairplot(data_eda,hue='label')"
   ]
  },
  {
   "cell_type": "code",
   "execution_count": 15,
   "id": "2e405ad4-5efc-4d80-b9a3-e27e08fb6f9e",
   "metadata": {
    "tags": []
   },
   "outputs": [],
   "source": [
    "#sns.heatmap(data_eda.corr(),annot=True,cmap='Greens')"
   ]
  },
  {
   "cell_type": "markdown",
   "id": "fa09f7b1-8d3a-4ac7-a353-069d49702df6",
   "metadata": {},
   "source": [
    "### EDA  Inference - it looks there is correlation between characters, words and sentences also words count for spam are more compared to ham text "
   ]
  },
  {
   "cell_type": "markdown",
   "id": "dd597f8e-a43c-4b37-aba8-23890bddea93",
   "metadata": {
    "tags": []
   },
   "source": [
    "<div class=\"alert alert-info\" style=\"background-color:#006a79; color:white; padding:0px 10px; border-radius:5px;\"><h2 style='margin:10px 5px'>4.Pre processing </h2>\n",
    "</div>"
   ]
  },
  {
   "cell_type": "code",
   "execution_count": 16,
   "id": "a2218e89-d6f6-4b0b-80fa-ea47a9660ca5",
   "metadata": {
    "tags": []
   },
   "outputs": [
    {
     "name": "stderr",
     "output_type": "stream",
     "text": [
      "[nltk_data] Downloading package stopwords to\n",
      "[nltk_data]     C:\\Users\\karlj\\AppData\\Roaming\\nltk_data...\n",
      "[nltk_data]   Package stopwords is already up-to-date!\n"
     ]
    },
    {
     "data": {
      "text/plain": [
       "True"
      ]
     },
     "execution_count": 16,
     "metadata": {},
     "output_type": "execute_result"
    }
   ],
   "source": [
    "nltk.download('stopwords')\n",
    "#The line nltk.download('stopwords') in NLTK downloads a collection of stopwords for various languages."
   ]
  },
  {
   "cell_type": "code",
   "execution_count": 17,
   "id": "c1223245-c34c-4c86-8316-c67eeefecd7b",
   "metadata": {
    "tags": []
   },
   "outputs": [],
   "source": [
    "from nltk.corpus import stopwords\n",
    "import string\n",
    "from nltk.stem.porter import PorterStemmer\n",
    "ps=PorterStemmer()    \n",
    "\n",
    "def transform_text(text):\n",
    "    text=text.lower()\n",
    "    y=[]\n",
    "    #tokenization\n",
    "    text=nltk.word_tokenize(text)\n",
    "    for i in text:\n",
    "        if i.isalnum():\n",
    "            y.append(i)\n",
    "    text=y[:]\n",
    "    y.clear()\n",
    "    #removing stopwords and punctuations\n",
    "    for i in text:\n",
    "        if i not in stopwords.words('english') and i not in string.punctuation:\n",
    "            y.append(i)\n",
    "    text=y[:]\n",
    "    y.clear()\n",
    "    \n",
    "    #stemming applied on text\n",
    "    for i in text:\n",
    "        y.append(ps.stem(i))\n",
    "    return y\n",
    "\n",
    "data_eda['transformed_text']=data_eda['text'].apply(transform_text)\n"
   ]
  },
  {
   "cell_type": "code",
   "execution_count": 18,
   "id": "949d0948",
   "metadata": {},
   "outputs": [
    {
     "name": "stdout",
     "output_type": "stream",
     "text": [
      "Requirement already satisfied: wordcloud in c:\\users\\karlj\\appdata\\local\\programs\\python\\python311\\lib\\site-packages (1.9.3)\n",
      "Requirement already satisfied: numpy>=1.6.1 in c:\\users\\karlj\\appdata\\local\\programs\\python\\python311\\lib\\site-packages (from wordcloud) (1.24.2)\n",
      "Requirement already satisfied: pillow in c:\\users\\karlj\\appdata\\local\\programs\\python\\python311\\lib\\site-packages (from wordcloud) (9.5.0)\n",
      "Requirement already satisfied: matplotlib in c:\\users\\karlj\\appdata\\local\\programs\\python\\python311\\lib\\site-packages (from wordcloud) (3.8.2)\n",
      "Requirement already satisfied: contourpy>=1.0.1 in c:\\users\\karlj\\appdata\\local\\programs\\python\\python311\\lib\\site-packages (from matplotlib->wordcloud) (1.2.0)\n",
      "Requirement already satisfied: cycler>=0.10 in c:\\users\\karlj\\appdata\\local\\programs\\python\\python311\\lib\\site-packages (from matplotlib->wordcloud) (0.12.1)\n",
      "Requirement already satisfied: fonttools>=4.22.0 in c:\\users\\karlj\\appdata\\local\\programs\\python\\python311\\lib\\site-packages (from matplotlib->wordcloud) (4.47.2)\n",
      "Requirement already satisfied: kiwisolver>=1.3.1 in c:\\users\\karlj\\appdata\\local\\programs\\python\\python311\\lib\\site-packages (from matplotlib->wordcloud) (1.4.5)\n",
      "Requirement already satisfied: packaging>=20.0 in c:\\users\\karlj\\appdata\\local\\programs\\python\\python311\\lib\\site-packages (from matplotlib->wordcloud) (23.2)\n",
      "Requirement already satisfied: pyparsing>=2.3.1 in c:\\users\\karlj\\appdata\\local\\programs\\python\\python311\\lib\\site-packages (from matplotlib->wordcloud) (3.1.1)\n",
      "Requirement already satisfied: python-dateutil>=2.7 in c:\\users\\karlj\\appdata\\local\\programs\\python\\python311\\lib\\site-packages (from matplotlib->wordcloud) (2.8.2)\n",
      "Requirement already satisfied: six>=1.5 in c:\\users\\karlj\\appdata\\local\\programs\\python\\python311\\lib\\site-packages (from python-dateutil>=2.7->matplotlib->wordcloud) (1.16.0)\n",
      "Note: you may need to restart the kernel to use updated packages.\n"
     ]
    }
   ],
   "source": [
    "%pip install wordcloud "
   ]
  },
  {
   "cell_type": "code",
   "execution_count": 19,
   "id": "1c6c38fa-1788-42ca-931b-fd22e795381d",
   "metadata": {
    "tags": []
   },
   "outputs": [
    {
     "data": {
      "text/plain": [
       "<matplotlib.image.AxesImage at 0x18eeac2c7d0>"
      ]
     },
     "execution_count": 19,
     "metadata": {},
     "output_type": "execute_result"
    },
    {
     "data": {
      "image/png": "[encoded data removed]",
      "text/plain": [
       "<Figure size 640x480 with 1 Axes>"
      ]
     },
     "metadata": {},
     "output_type": "display_data"
    }
   ],
   "source": [
    "#lets check the most occuring words using wordcloud library\n",
    "from wordcloud import WordCloud\n",
    "wc=WordCloud(width=500,height=500,min_font_size=10,background_color='white')\n",
    "spam_wc=wc.generate(data_eda[data_eda['label']==1]['transformed_text'].astype('str').str.cat(sep=\" \"))\n",
    "plt.imshow(spam_wc)\n",
    "\n",
    "\n"
   ]
  },
  {
   "cell_type": "code",
   "execution_count": 20,
   "id": "040fd752-795e-47b3-ba0e-6842a4b4cbb7",
   "metadata": {
    "tags": []
   },
   "outputs": [
    {
     "data": {
      "text/plain": [
       "11490"
      ]
     },
     "execution_count": 20,
     "metadata": {},
     "output_type": "execute_result"
    }
   ],
   "source": [
    "#counting the no of words repeating\n",
    "spam_corpus=[]\n",
    "for msg in data_eda[data_eda['label']==1]['transformed_text'].tolist():\n",
    "    for word in msg:\n",
    "        spam_corpus.append(word)\n",
    "len(spam_corpus)\n",
    "        "
   ]
  },
  {
   "cell_type": "code",
   "execution_count": 21,
   "id": "8d66448b-e6ca-4020-ac5e-6431e9d2d28a",
   "metadata": {
    "tags": []
   },
   "outputs": [
    {
     "data": {
      "text/plain": [
       "Text(0.5, 1.0, 'top 30 repeating words in spam text')"
      ]
     },
     "execution_count": 21,
     "metadata": {},
     "output_type": "execute_result"
    },
    {
     "data": {
      "image/png": "[encoded data removed]",
      "text/plain": [
       "<Figure size 640x480 with 1 Axes>"
      ]
     },
     "metadata": {},
     "output_type": "display_data"
    }
   ],
   "source": [
    "from collections import Counter\n",
    "pd.DataFrame(Counter(spam_corpus).most_common(30)).plot(kind='bar',x=0,color='red')\n",
    "plt.title(\"top 30 repeating words in spam text\")"
   ]
  },
  {
   "cell_type": "code",
   "execution_count": 22,
   "id": "1185e9a0",
   "metadata": {},
   "outputs": [
    {
     "data": {
      "text/plain": [
       "(5572, 6708)"
      ]
     },
     "execution_count": 22,
     "metadata": {},
     "output_type": "execute_result"
    }
   ],
   "source": [
    "from sklearn.feature_extraction.text import TfidfVectorizer\n",
    "tf=TfidfVectorizer()\n",
    "k=tf.fit_transform(data_eda['transformed_text'].astype('str')).toarray()\n",
    "k.shape"
   ]
  },
  {
   "cell_type": "code",
   "execution_count": 23,
   "id": "a6c4adc8",
   "metadata": {},
   "outputs": [
    {
     "data": {
      "text/html": [
       "<div>\n",
       "<style scoped>\n",
       "    .dataframe tbody tr th:only-of-type {\n",
       "        vertical-align: middle;\n",
       "    }\n",
       "\n",
       "    .dataframe tbody tr th {\n",
       "        vertical-align: top;\n",
       "    }\n",
       "\n",
       "    .dataframe thead th {\n",
       "        text-align: right;\n",
       "    }\n",
       "</style>\n",
       "<table border=\"1\" class=\"dataframe\">\n",
       "  <thead>\n",
       "    <tr style=\"text-align: right;\">\n",
       "      <th></th>\n",
       "      <th>008704050406</th>\n",
       "      <th>0089</th>\n",
       "      <th>0121</th>\n",
       "      <th>01223585236</th>\n",
       "      <th>01223585334</th>\n",
       "      <th>0125698789</th>\n",
       "      <th>02</th>\n",
       "      <th>0207</th>\n",
       "      <th>02073162414</th>\n",
       "      <th>02085076972</th>\n",
       "      <th>...</th>\n",
       "      <th>zouk</th>\n",
       "      <th>zyada</th>\n",
       "      <th>åè10</th>\n",
       "      <th>åð</th>\n",
       "      <th>åòharri</th>\n",
       "      <th>åòit</th>\n",
       "      <th>åômorrow</th>\n",
       "      <th>åôrent</th>\n",
       "      <th>ìä</th>\n",
       "      <th>ìï</th>\n",
       "    </tr>\n",
       "  </thead>\n",
       "  <tbody>\n",
       "    <tr>\n",
       "      <th>0</th>\n",
       "      <td>0.0</td>\n",
       "      <td>0.0</td>\n",
       "      <td>0.0</td>\n",
       "      <td>0.0</td>\n",
       "      <td>0.0</td>\n",
       "      <td>0.0</td>\n",
       "      <td>0.0</td>\n",
       "      <td>0.0</td>\n",
       "      <td>0.0</td>\n",
       "      <td>0.0</td>\n",
       "      <td>...</td>\n",
       "      <td>0.0</td>\n",
       "      <td>0.0</td>\n",
       "      <td>0.0</td>\n",
       "      <td>0.0</td>\n",
       "      <td>0.0</td>\n",
       "      <td>0.0</td>\n",
       "      <td>0.0</td>\n",
       "      <td>0.0</td>\n",
       "      <td>0.0</td>\n",
       "      <td>0.0</td>\n",
       "    </tr>\n",
       "    <tr>\n",
       "      <th>1</th>\n",
       "      <td>0.0</td>\n",
       "      <td>0.0</td>\n",
       "      <td>0.0</td>\n",
       "      <td>0.0</td>\n",
       "      <td>0.0</td>\n",
       "      <td>0.0</td>\n",
       "      <td>0.0</td>\n",
       "      <td>0.0</td>\n",
       "      <td>0.0</td>\n",
       "      <td>0.0</td>\n",
       "      <td>...</td>\n",
       "      <td>0.0</td>\n",
       "      <td>0.0</td>\n",
       "      <td>0.0</td>\n",
       "      <td>0.0</td>\n",
       "      <td>0.0</td>\n",
       "      <td>0.0</td>\n",
       "      <td>0.0</td>\n",
       "      <td>0.0</td>\n",
       "      <td>0.0</td>\n",
       "      <td>0.0</td>\n",
       "    </tr>\n",
       "    <tr>\n",
       "      <th>2</th>\n",
       "      <td>0.0</td>\n",
       "      <td>0.0</td>\n",
       "      <td>0.0</td>\n",
       "      <td>0.0</td>\n",
       "      <td>0.0</td>\n",
       "      <td>0.0</td>\n",
       "      <td>0.0</td>\n",
       "      <td>0.0</td>\n",
       "      <td>0.0</td>\n",
       "      <td>0.0</td>\n",
       "      <td>...</td>\n",
       "      <td>0.0</td>\n",
       "      <td>0.0</td>\n",
       "      <td>0.0</td>\n",
       "      <td>0.0</td>\n",
       "      <td>0.0</td>\n",
       "      <td>0.0</td>\n",
       "      <td>0.0</td>\n",
       "      <td>0.0</td>\n",
       "      <td>0.0</td>\n",
       "      <td>0.0</td>\n",
       "    </tr>\n",
       "    <tr>\n",
       "      <th>3</th>\n",
       "      <td>0.0</td>\n",
       "      <td>0.0</td>\n",
       "      <td>0.0</td>\n",
       "      <td>0.0</td>\n",
       "      <td>0.0</td>\n",
       "      <td>0.0</td>\n",
       "      <td>0.0</td>\n",
       "      <td>0.0</td>\n",
       "      <td>0.0</td>\n",
       "      <td>0.0</td>\n",
       "      <td>...</td>\n",
       "      <td>0.0</td>\n",
       "      <td>0.0</td>\n",
       "      <td>0.0</td>\n",
       "      <td>0.0</td>\n",
       "      <td>0.0</td>\n",
       "      <td>0.0</td>\n",
       "      <td>0.0</td>\n",
       "      <td>0.0</td>\n",
       "      <td>0.0</td>\n",
       "      <td>0.0</td>\n",
       "    </tr>\n",
       "    <tr>\n",
       "      <th>4</th>\n",
       "      <td>0.0</td>\n",
       "      <td>0.0</td>\n",
       "      <td>0.0</td>\n",
       "      <td>0.0</td>\n",
       "      <td>0.0</td>\n",
       "      <td>0.0</td>\n",
       "      <td>0.0</td>\n",
       "      <td>0.0</td>\n",
       "      <td>0.0</td>\n",
       "      <td>0.0</td>\n",
       "      <td>...</td>\n",
       "      <td>0.0</td>\n",
       "      <td>0.0</td>\n",
       "      <td>0.0</td>\n",
       "      <td>0.0</td>\n",
       "      <td>0.0</td>\n",
       "      <td>0.0</td>\n",
       "      <td>0.0</td>\n",
       "      <td>0.0</td>\n",
       "      <td>0.0</td>\n",
       "      <td>0.0</td>\n",
       "    </tr>\n",
       "    <tr>\n",
       "      <th>...</th>\n",
       "      <td>...</td>\n",
       "      <td>...</td>\n",
       "      <td>...</td>\n",
       "      <td>...</td>\n",
       "      <td>...</td>\n",
       "      <td>...</td>\n",
       "      <td>...</td>\n",
       "      <td>...</td>\n",
       "      <td>...</td>\n",
       "      <td>...</td>\n",
       "      <td>...</td>\n",
       "      <td>...</td>\n",
       "      <td>...</td>\n",
       "      <td>...</td>\n",
       "      <td>...</td>\n",
       "      <td>...</td>\n",
       "      <td>...</td>\n",
       "      <td>...</td>\n",
       "      <td>...</td>\n",
       "      <td>...</td>\n",
       "      <td>...</td>\n",
       "    </tr>\n",
       "    <tr>\n",
       "      <th>5567</th>\n",
       "      <td>0.0</td>\n",
       "      <td>0.0</td>\n",
       "      <td>0.0</td>\n",
       "      <td>0.0</td>\n",
       "      <td>0.0</td>\n",
       "      <td>0.0</td>\n",
       "      <td>0.0</td>\n",
       "      <td>0.0</td>\n",
       "      <td>0.0</td>\n",
       "      <td>0.0</td>\n",
       "      <td>...</td>\n",
       "      <td>0.0</td>\n",
       "      <td>0.0</td>\n",
       "      <td>0.0</td>\n",
       "      <td>0.0</td>\n",
       "      <td>0.0</td>\n",
       "      <td>0.0</td>\n",
       "      <td>0.0</td>\n",
       "      <td>0.0</td>\n",
       "      <td>0.0</td>\n",
       "      <td>0.0</td>\n",
       "    </tr>\n",
       "    <tr>\n",
       "      <th>5568</th>\n",
       "      <td>0.0</td>\n",
       "      <td>0.0</td>\n",
       "      <td>0.0</td>\n",
       "      <td>0.0</td>\n",
       "      <td>0.0</td>\n",
       "      <td>0.0</td>\n",
       "      <td>0.0</td>\n",
       "      <td>0.0</td>\n",
       "      <td>0.0</td>\n",
       "      <td>0.0</td>\n",
       "      <td>...</td>\n",
       "      <td>0.0</td>\n",
       "      <td>0.0</td>\n",
       "      <td>0.0</td>\n",
       "      <td>0.0</td>\n",
       "      <td>0.0</td>\n",
       "      <td>0.0</td>\n",
       "      <td>0.0</td>\n",
       "      <td>0.0</td>\n",
       "      <td>0.0</td>\n",
       "      <td>0.0</td>\n",
       "    </tr>\n",
       "    <tr>\n",
       "      <th>5569</th>\n",
       "      <td>0.0</td>\n",
       "      <td>0.0</td>\n",
       "      <td>0.0</td>\n",
       "      <td>0.0</td>\n",
       "      <td>0.0</td>\n",
       "      <td>0.0</td>\n",
       "      <td>0.0</td>\n",
       "      <td>0.0</td>\n",
       "      <td>0.0</td>\n",
       "      <td>0.0</td>\n",
       "      <td>...</td>\n",
       "      <td>0.0</td>\n",
       "      <td>0.0</td>\n",
       "      <td>0.0</td>\n",
       "      <td>0.0</td>\n",
       "      <td>0.0</td>\n",
       "      <td>0.0</td>\n",
       "      <td>0.0</td>\n",
       "      <td>0.0</td>\n",
       "      <td>0.0</td>\n",
       "      <td>0.0</td>\n",
       "    </tr>\n",
       "    <tr>\n",
       "      <th>5570</th>\n",
       "      <td>0.0</td>\n",
       "      <td>0.0</td>\n",
       "      <td>0.0</td>\n",
       "      <td>0.0</td>\n",
       "      <td>0.0</td>\n",
       "      <td>0.0</td>\n",
       "      <td>0.0</td>\n",
       "      <td>0.0</td>\n",
       "      <td>0.0</td>\n",
       "      <td>0.0</td>\n",
       "      <td>...</td>\n",
       "      <td>0.0</td>\n",
       "      <td>0.0</td>\n",
       "      <td>0.0</td>\n",
       "      <td>0.0</td>\n",
       "      <td>0.0</td>\n",
       "      <td>0.0</td>\n",
       "      <td>0.0</td>\n",
       "      <td>0.0</td>\n",
       "      <td>0.0</td>\n",
       "      <td>0.0</td>\n",
       "    </tr>\n",
       "    <tr>\n",
       "      <th>5571</th>\n",
       "      <td>0.0</td>\n",
       "      <td>0.0</td>\n",
       "      <td>0.0</td>\n",
       "      <td>0.0</td>\n",
       "      <td>0.0</td>\n",
       "      <td>0.0</td>\n",
       "      <td>0.0</td>\n",
       "      <td>0.0</td>\n",
       "      <td>0.0</td>\n",
       "      <td>0.0</td>\n",
       "      <td>...</td>\n",
       "      <td>0.0</td>\n",
       "      <td>0.0</td>\n",
       "      <td>0.0</td>\n",
       "      <td>0.0</td>\n",
       "      <td>0.0</td>\n",
       "      <td>0.0</td>\n",
       "      <td>0.0</td>\n",
       "      <td>0.0</td>\n",
       "      <td>0.0</td>\n",
       "      <td>0.0</td>\n",
       "    </tr>\n",
       "  </tbody>\n",
       "</table>\n",
       "<p>5572 rows × 6708 columns</p>\n",
       "</div>"
      ],
      "text/plain": [
       "      008704050406  0089  0121  01223585236  01223585334  0125698789   02  \\\n",
       "0              0.0   0.0   0.0          0.0          0.0         0.0  0.0   \n",
       "1              0.0   0.0   0.0          0.0          0.0         0.0  0.0   \n",
       "2              0.0   0.0   0.0          0.0          0.0         0.0  0.0   \n",
       "3              0.0   0.0   0.0          0.0          0.0         0.0  0.0   \n",
       "4              0.0   0.0   0.0          0.0          0.0         0.0  0.0   \n",
       "...            ...   ...   ...          ...          ...         ...  ...   \n",
       "5567           0.0   0.0   0.0          0.0          0.0         0.0  0.0   \n",
       "5568           0.0   0.0   0.0          0.0          0.0         0.0  0.0   \n",
       "5569           0.0   0.0   0.0          0.0          0.0         0.0  0.0   \n",
       "5570           0.0   0.0   0.0          0.0          0.0         0.0  0.0   \n",
       "5571           0.0   0.0   0.0          0.0          0.0         0.0  0.0   \n",
       "\n",
       "      0207  02073162414  02085076972  ...  zouk  zyada  åè10   åð  åòharri  \\\n",
       "0      0.0          0.0          0.0  ...   0.0    0.0   0.0  0.0      0.0   \n",
       "1      0.0          0.0          0.0  ...   0.0    0.0   0.0  0.0      0.0   \n",
       "2      0.0          0.0          0.0  ...   0.0    0.0   0.0  0.0      0.0   \n",
       "3      0.0          0.0          0.0  ...   0.0    0.0   0.0  0.0      0.0   \n",
       "4      0.0          0.0          0.0  ...   0.0    0.0   0.0  0.0      0.0   \n",
       "...    ...          ...          ...  ...   ...    ...   ...  ...      ...   \n",
       "5567   0.0          0.0          0.0  ...   0.0    0.0   0.0  0.0      0.0   \n",
       "5568   0.0          0.0          0.0  ...   0.0    0.0   0.0  0.0      0.0   \n",
       "5569   0.0          0.0          0.0  ...   0.0    0.0   0.0  0.0      0.0   \n",
       "5570   0.0          0.0          0.0  ...   0.0    0.0   0.0  0.0      0.0   \n",
       "5571   0.0          0.0          0.0  ...   0.0    0.0   0.0  0.0      0.0   \n",
       "\n",
       "      åòit  åômorrow  åôrent   ìä   ìï  \n",
       "0      0.0       0.0     0.0  0.0  0.0  \n",
       "1      0.0       0.0     0.0  0.0  0.0  \n",
       "2      0.0       0.0     0.0  0.0  0.0  \n",
       "3      0.0       0.0     0.0  0.0  0.0  \n",
       "4      0.0       0.0     0.0  0.0  0.0  \n",
       "...    ...       ...     ...  ...  ...  \n",
       "5567   0.0       0.0     0.0  0.0  0.0  \n",
       "5568   0.0       0.0     0.0  0.0  0.0  \n",
       "5569   0.0       0.0     0.0  0.0  0.0  \n",
       "5570   0.0       0.0     0.0  0.0  0.0  \n",
       "5571   0.0       0.0     0.0  0.0  0.0  \n",
       "\n",
       "[5572 rows x 6708 columns]"
      ]
     },
     "execution_count": 23,
     "metadata": {},
     "output_type": "execute_result"
    }
   ],
   "source": [
    "k=pd.DataFrame(k,columns=tf.get_feature_names_out())\n",
    "k"
   ]
  },
  {
   "cell_type": "code",
   "execution_count": 24,
   "id": "a64f7dca-6e0f-4b01-8f24-8d3febd86a5d",
   "metadata": {
    "tags": []
   },
   "outputs": [
    {
     "data": {
      "text/plain": [
       "(5572, 6708)"
      ]
     },
     "execution_count": 24,
     "metadata": {},
     "output_type": "execute_result"
    }
   ],
   "source": [
    "#vector embedding -convert text to numerical as per their occurence frequency\n",
    "from sklearn.feature_extraction.text import CountVectorizer,TfidfVectorizer\n",
    "cv=CountVectorizer()\n",
    "tf=TfidfVectorizer()\n",
    "X=tf.fit_transform(data_eda['transformed_text'].astype('str')).toarray()\n",
    "X=pd.DataFrame(X,columns=tf.get_feature_names_out())\n",
    "X.shape\n"
   ]
  },
  {
   "cell_type": "code",
   "execution_count": 25,
   "id": "975e8462-b942-4b11-b31b-fe4ab1e857e8",
   "metadata": {
    "tags": []
   },
   "outputs": [
    {
     "data": {
      "text/plain": [
       "0       0\n",
       "1       0\n",
       "2       1\n",
       "3       0\n",
       "4       0\n",
       "       ..\n",
       "5567    1\n",
       "5568    0\n",
       "5569    0\n",
       "5570    0\n",
       "5571    0\n",
       "Name: label, Length: 5572, dtype: int64"
      ]
     },
     "execution_count": 25,
     "metadata": {},
     "output_type": "execute_result"
    }
   ],
   "source": [
    "from sklearn.model_selection import train_test_split\n",
    "y=data_eda['label']\n",
    "y"
   ]
  },
  {
   "cell_type": "code",
   "execution_count": 26,
   "id": "81762d30-d66c-4f36-b07e-4808b99665b7",
   "metadata": {
    "tags": []
   },
   "outputs": [],
   "source": [
    "X_train,X_test,y_train,y_test=train_test_split(X,y,test_size=.3,random_state=33)"
   ]
  },
  {
   "cell_type": "code",
   "execution_count": 27,
   "id": "d91f45f4-9f0a-4b1b-800e-e437d97733ae",
   "metadata": {
    "tags": []
   },
   "outputs": [],
   "source": [
    "# #copy the preprocessing.py code to s3 bucket\n",
    "# codeprefix=prefix + '/code'\n",
    "# codeupload=sess.upload_data('data_preprocessing.py',bucket=rawbucket,key_prefix=codeprefix)\n"
   ]
  },
  {
   "cell_type": "markdown",
   "id": "29d6d8e4-ebf0-4125-8e70-04c309659e7b",
   "metadata": {},
   "source": [
    "### specify where the training and test data must be stored"
   ]
  },
  {
   "cell_type": "code",
   "execution_count": 28,
   "id": "f38c7ece-6578-4612-be7f-90be225128b7",
   "metadata": {
    "tags": []
   },
   "outputs": [],
   "source": [
    "# #setting the s3 buckets information to output stored\n",
    "# train_data_location=rawbucket +'/'+ traindataprefix\n",
    "# test_data_location=rawbucket+'/'+ testdataprefix\n",
    "# print(f\"Training data location -{train_data_location}\")\n",
    "# print(f\"Test data location - {test_data_location}\")"
   ]
  },
  {
   "cell_type": "markdown",
   "id": "93c6d83c-a881-4a4d-88c2-3c5ac2c2baa2",
   "metadata": {},
   "source": [
    "### __Run The Pre-Processing Job__ "
   ]
  },
  {
   "cell_type": "code",
   "execution_count": 29,
   "id": "ec2ad33a-9736-4fb9-a0a7-ae8033cc8ff2",
   "metadata": {
    "tags": []
   },
   "outputs": [],
   "source": [
    "# from sagemaker.processing import ProcessingInput,ProcessingOutput\n",
    "# sklearnpreprocessor.run(code=codeupload,\n",
    "#                         inputs=[ProcessingInput(source=raw_data_location,destination='/opt/ml/processing/input')],\n",
    "#                         outputs=[ProcessingOutput(output_name='train_data',source='/opt/ml/processing/train',destination='s3://'+ train_data_location),\n",
    "#                                  ProcessingOutput(output_name='test_data',source='/opt/ml/processing/test',destination='s3://'+ test_data_location),\n",
    "#                                  ProcessingOutput(output_name='train_data_headers',source='/opt/ml/processing/train_headers',destination='s3://' + rawbucket + '/' + prefix +'/train_headers')],\n",
    "#                         arguments=['--train-test-split-ratio','0.2']\n",
    "#                        )\n",
    "# preprocessing_job_description=sklearnpreprocessor.jobs[-1].describe()\n",
    "# output_config = preprocessing_job_description['ProcessingOutputConfig']\n",
    "\n",
    "# for output in output_config['Outputs']:\n",
    "#     if output['OutputName'] == 'train_data':\n",
    "#         preprocessed_training_data = output['S3Output']['S3Uri']\n",
    "#     if output['OutputName'] == 'test_data':\n",
    "#         preprocessed_test_data = output['S3Output']['S3Uri']\n",
    "                                        "
   ]
  },
  {
   "cell_type": "markdown",
   "id": "83f7aca8",
   "metadata": {},
   "source": [
    "### Lets do scaling to make all features on same scale\n"
   ]
  },
  {
   "cell_type": "code",
   "execution_count": 30,
   "id": "b4a3382b",
   "metadata": {},
   "outputs": [],
   "source": [
    "# from sklearn.preprocessing import MinMaxScaler\n",
    "# scaler=MinMaxScaler()\n",
    "# X_train=scaler.fit_transform(X_train)\n"
   ]
  },
  {
   "cell_type": "markdown",
   "id": "a9305aa1-e0ab-476a-9907-8e43aaa6e5d2",
   "metadata": {},
   "source": [
    "<div class=\"alert alert-info\" style=\"background-color:#006a79; color:white; padding:0px 10px; border-radius:5px;\"><h2 style='margin:10px 5px'>5.Model Building </h2>\n",
    "</div>"
   ]
  },
  {
   "cell_type": "markdown",
   "id": "7b3306c7",
   "metadata": {},
   "source": [
    "### model building using all the common classifier models "
   ]
  },
  {
   "cell_type": "code",
   "execution_count": 31,
   "id": "b4c43775-73ab-47c2-bf00-17d382ce205b",
   "metadata": {
    "tags": []
   },
   "outputs": [],
   "source": [
    "from sklearn.naive_bayes import GaussianNB,BernoulliNB,MultinomialNB\n",
    "from sklearn.svm import SVC\n",
    "import time\n",
    "import datetime\n",
    "from tqdm import tqdm_notebook\n",
    "from sklearn.metrics import accuracy_score,confusion_matrix,roc_curve,roc_auc_score,classification_report,f1_score\n",
    "from sklearn.metrics import make_scorer\n",
    "f1_scorer=make_scorer(f1_score)"
   ]
  },
  {
   "cell_type": "code",
   "execution_count": 32,
   "id": "1e375591",
   "metadata": {},
   "outputs": [],
   "source": [
    "# creating two dataframe for storing hyperparameters and model's output\n",
    "df_models_output=pd.DataFrame(columns=['model','accuracy','precision','recall','roc','f1_score'])\n",
    "df_models_output\n",
    "df_hyperparameter=pd.DataFrame(columns=['modelname','hyperparameter'])"
   ]
  },
  {
   "cell_type": "code",
   "execution_count": 34,
   "id": "7f8c94ab",
   "metadata": {},
   "outputs": [],
   "source": [
    "from sklearn.metrics import accuracy_score,roc_auc_score,roc_curve,RocCurveDisplay\n",
    "def compute_evaluation_metric(algo,X_test,y_actual,y_pred,y_pred_prob):\n",
    "    cm=confusion_matrix(y_actual,y_pred,labels=y.value_counts().index)\n",
    "    print(f\"confusion matrix -\\n {cm}\\n\")\n",
    "    accuracy=accuracy_score(y_actual,y_pred)\n",
    "    print(f\"accuracy score : {accuracy}\")\n",
    "    #print(f\"macro averaged OvR AUC score : {roc_auc_score(y_actual,y_pred_prob,multi_class='ovr',average='macro')}\")\n",
    "    \n",
    "    \n",
    "    TP=(np.diag(cm))\n",
    "    \n",
    "    FP=(cm.sum(axis=0)-np.diag(cm))\n",
    "    #print(FP)\n",
    "    FN=(cm.sum(axis=1)-np.diag(cm))\n",
    "    #print(FN)\n",
    "    #print(f\"cm sum -{cm.sum()}\")\n",
    "    TN=cm.sum()-(FP+FN+TP)\n",
    "    #print(TN)\n",
    "    \n",
    "    TPR=np.round(np.mean(TP/(TP+FN)),4)\n",
    "    TNR=np.round(np.mean(TN/(TN+FP)),4)\n",
    "    FPR=np.round(np.mean(FP/(FP+TN)),4)\n",
    "    precision=(TP/(TP+FP))\n",
    "    f1score=f1_score(y_test,y_pred)\n",
    "    print(f\"Precision for positive class is {precision}\")\n",
    "    print(f\"TPR/Recall is {TPR}\")\n",
    "    print(f\"TNR/Specifity is {TNR}\")\n",
    "    #print(f\"FNR is {FNR}\")\n",
    "    print(f\"FPR is {FPR}\" )\n",
    "    print(f\"F1 score is - {f1score}\")\n",
    "    print(f\"\\n classification report - :\\n {classification_report(y_actual,y_pred)}\")\n",
    "    ROC=roc_auc_score(y_actual,y_pred)\n",
    "    print(f\"ROC -{ROC} \") # ROC curve method for binary classification problems\n",
    "    RocCurveDisplay.from_predictions(y_actual,y_pred)\n",
    "    plt.show()\n",
    "    return algo,accuracy,precision,TPR,ROC,f1score"
   ]
  },
  {
   "cell_type": "markdown",
   "id": "eae15fbc",
   "metadata": {},
   "source": [
    "#### Model 1- Naive beyes model "
   ]
  },
  {
   "cell_type": "code",
   "execution_count": 35,
   "id": "0e28ee66-117b-4b47-b9ca-00baccaddcd3",
   "metadata": {},
   "outputs": [
    {
     "name": "stdout",
     "output_type": "stream",
     "text": [
      "CPU times: total: 0 ns\n",
      "Wall time: 0 ns\n"
     ]
    }
   ],
   "source": [
    "%%time\n",
    "#lets use hyperparamater tuning for NB model\n",
    "\n",
    "import time\n",
    "from sklearn.model_selection import GridSearchCV\n",
    "from sklearn.model_selection import RepeatedStratifiedKFold\n",
    "\n",
    "\n",
    "# mnb=MultinomialNB()\n",
    "# parmas={\"alpha\":[.001,.01,.1,1,2]}\n",
    "# cv_method=RepeatedStratifiedKFold(n_splits=10,n_repeats=10,random_state=33)\n",
    "# gs_nb=GridSearchCV(estimator=mnb,\n",
    "#                   cv=cv_method,\n",
    "#                   param_grid=parmas,\n",
    "#                   verbose=1,\n",
    "#                   scoring=f1_scorer)\n",
    "# gs_nb.fit(X_train,y_train)\n",
    "# print(gs_nb.best_estimator_)"
   ]
  },
  {
   "cell_type": "code",
   "execution_count": 38,
   "id": "9db6ac4a",
   "metadata": {},
   "outputs": [
    {
     "data": {
      "text/html": [
       "<div>\n",
       "<style scoped>\n",
       "    .dataframe tbody tr th:only-of-type {\n",
       "        vertical-align: middle;\n",
       "    }\n",
       "\n",
       "    .dataframe tbody tr th {\n",
       "        vertical-align: top;\n",
       "    }\n",
       "\n",
       "    .dataframe thead th {\n",
       "        text-align: right;\n",
       "    }\n",
       "</style>\n",
       "<table border=\"1\" class=\"dataframe\">\n",
       "  <thead>\n",
       "    <tr style=\"text-align: right;\">\n",
       "      <th></th>\n",
       "      <th>modelname</th>\n",
       "      <th>hyperparameter</th>\n",
       "    </tr>\n",
       "  </thead>\n",
       "  <tbody>\n",
       "    <tr>\n",
       "      <th>0</th>\n",
       "      <td>MultiNB</td>\n",
       "      <td>MultinomialNB(alpha=0.1,1)</td>\n",
       "    </tr>\n",
       "  </tbody>\n",
       "</table>\n",
       "</div>"
      ],
      "text/plain": [
       "  modelname              hyperparameter\n",
       "0   MultiNB  MultinomialNB(alpha=0.1,1)"
      ]
     },
     "execution_count": 38,
     "metadata": {},
     "output_type": "execute_result"
    }
   ],
   "source": [
    "#hyperparameters for NB are MultinomialNB(alpha=0.1)\n",
    "#df_hyperparameter=df_hyperparameter.append({'modelname':'MultiNB','hyperparameter':'MultinomialNB(alpha=0.1,1)'},ignore_index=True)\n",
    "\n",
    "new_row = pd.DataFrame({\n",
    "    'modelname': ['MultiNB'],\n",
    "    'hyperparameter': ['MultinomialNB(alpha=0.1,1)']\n",
    "})\n",
    "# Concatenate the new row to the existing DataFrame\n",
    "df_hyperparameter = pd.concat([df_hyperparameter, new_row], ignore_index=True)\n",
    "\n",
    "df_hyperparameter"
   ]
  },
  {
   "cell_type": "markdown",
   "id": "e4fe44f1",
   "metadata": {},
   "source": [
    "#### Model 2 - Support vector machine "
   ]
  },
  {
   "cell_type": "code",
   "execution_count": 39,
   "id": "abd4a6c9",
   "metadata": {},
   "outputs": [
    {
     "name": "stdout",
     "output_type": "stream",
     "text": [
      "CPU times: total: 0 ns\n",
      "Wall time: 0 ns\n"
     ]
    }
   ],
   "source": [
    "%%time\n",
    "#hyperparameter tunning for SVM\n",
    "# from sklearn.svm import SVC\n",
    "# svc= SVC()\n",
    "# params={'C':[0.1,1,10,100,1000],'gamma':[1,0.1,0.01,0.001],'kernel':['rbf','sigmoid']}\n",
    "# gs_svc=GridSearchCV(estimator=svc,\n",
    "#                    cv=cv_method,\n",
    "#                    param_grid=params,\n",
    "#                    verbose=1,\n",
    "#                  )\n",
    "# gs_svc.fit(X_train,y_train)\n",
    "# print(gs_svc.best_estimator_)"
   ]
  },
  {
   "cell_type": "code",
   "execution_count": 41,
   "id": "eb2680f2",
   "metadata": {},
   "outputs": [
    {
     "data": {
      "text/html": [
       "<div>\n",
       "<style scoped>\n",
       "    .dataframe tbody tr th:only-of-type {\n",
       "        vertical-align: middle;\n",
       "    }\n",
       "\n",
       "    .dataframe tbody tr th {\n",
       "        vertical-align: top;\n",
       "    }\n",
       "\n",
       "    .dataframe thead th {\n",
       "        text-align: right;\n",
       "    }\n",
       "</style>\n",
       "<table border=\"1\" class=\"dataframe\">\n",
       "  <thead>\n",
       "    <tr style=\"text-align: right;\">\n",
       "      <th></th>\n",
       "      <th>modelname</th>\n",
       "      <th>hyperparameter</th>\n",
       "    </tr>\n",
       "  </thead>\n",
       "  <tbody>\n",
       "    <tr>\n",
       "      <th>0</th>\n",
       "      <td>MultiNB</td>\n",
       "      <td>MultinomialNB(alpha=0.1,1)</td>\n",
       "    </tr>\n",
       "    <tr>\n",
       "      <th>1</th>\n",
       "      <td>SVC</td>\n",
       "      <td>SVC(C=10, gamma=0.1)</td>\n",
       "    </tr>\n",
       "  </tbody>\n",
       "</table>\n",
       "</div>"
      ],
      "text/plain": [
       "  modelname              hyperparameter\n",
       "0   MultiNB  MultinomialNB(alpha=0.1,1)\n",
       "1       SVC        SVC(C=10, gamma=0.1)"
      ]
     },
     "execution_count": 41,
     "metadata": {},
     "output_type": "execute_result"
    }
   ],
   "source": [
    "#SVC hyeprparameters= SVC(C=10, gamma=0.1)\n",
    "#df_hyperparameter=df_hyperparameter.append({'modelname':'SVC','hyperparameter':'SVC(C=10, gamma=0.1)'},ignore_index=True)\n",
    "\n",
    "new_row = pd.DataFrame({\n",
    "    'modelname': ['SVC'],\n",
    "    'hyperparameter': ['SVC(C=10, gamma=0.1)']\n",
    "})\n",
    "# Concatenate the new row to the existing DataFrame\n",
    "df_hyperparameter = pd.concat([df_hyperparameter, new_row], ignore_index=True)\n",
    "\n",
    "df_hyperparameter"
   ]
  },
  {
   "cell_type": "markdown",
   "id": "929e00cd",
   "metadata": {},
   "source": [
    "### Model 3 - KNN model "
   ]
  },
  {
   "cell_type": "code",
   "execution_count": 42,
   "id": "1bf7db49",
   "metadata": {},
   "outputs": [
    {
     "name": "stdout",
     "output_type": "stream",
     "text": [
      "CPU times: total: 15.6 ms\n",
      "Wall time: 682 ms\n"
     ]
    }
   ],
   "source": [
    "%%time\n",
    "from sklearn.neighbors import KNeighborsClassifier\n",
    "#hyperparameter modelling for KNN\n",
    "# KNN=KNeighborsClassifier()\n",
    "# params={'n_neighbors':[2,4,8,16],\n",
    "#     'weights':['uniform','distance']\n",
    "# }\n",
    "# gs_knn=GridSearchCV(estimator=KNN,\n",
    "#                     param_grid=params,\n",
    "#                    cv=cv_method,\n",
    "#                    verbose=1)\n",
    "# gs_knn.fit(X_train,y_train)\n",
    "# print(gs_knn.best_params_)\n"
   ]
  },
  {
   "cell_type": "code",
   "execution_count": 43,
   "id": "748c28ea",
   "metadata": {},
   "outputs": [
    {
     "data": {
      "text/html": [
       "<div>\n",
       "<style scoped>\n",
       "    .dataframe tbody tr th:only-of-type {\n",
       "        vertical-align: middle;\n",
       "    }\n",
       "\n",
       "    .dataframe tbody tr th {\n",
       "        vertical-align: top;\n",
       "    }\n",
       "\n",
       "    .dataframe thead th {\n",
       "        text-align: right;\n",
       "    }\n",
       "</style>\n",
       "<table border=\"1\" class=\"dataframe\">\n",
       "  <thead>\n",
       "    <tr style=\"text-align: right;\">\n",
       "      <th></th>\n",
       "      <th>modelname</th>\n",
       "      <th>hyperparameter</th>\n",
       "    </tr>\n",
       "  </thead>\n",
       "  <tbody>\n",
       "    <tr>\n",
       "      <th>0</th>\n",
       "      <td>MultiNB</td>\n",
       "      <td>MultinomialNB(alpha=0.1,1)</td>\n",
       "    </tr>\n",
       "    <tr>\n",
       "      <th>1</th>\n",
       "      <td>SVC</td>\n",
       "      <td>SVC(C=10, gamma=0.1)</td>\n",
       "    </tr>\n",
       "    <tr>\n",
       "      <th>2</th>\n",
       "      <td>KNN</td>\n",
       "      <td>n_neighbors: 2, weights: distance</td>\n",
       "    </tr>\n",
       "  </tbody>\n",
       "</table>\n",
       "</div>"
      ],
      "text/plain": [
       "  modelname                     hyperparameter\n",
       "0   MultiNB         MultinomialNB(alpha=0.1,1)\n",
       "1       SVC               SVC(C=10, gamma=0.1)\n",
       "2       KNN  n_neighbors: 2, weights: distance"
      ]
     },
     "execution_count": 43,
     "metadata": {},
     "output_type": "execute_result"
    }
   ],
   "source": [
    "#KNN hyperparameters- {'n_neighbors': 2, 'weights': 'distance'}\n",
    "#df_hyperparameter=df_hyperparameter.append({'modelname':'KNN','hyperparameter':'n_neighbors: 2, weights: distance'},ignore_index=True)\n",
    "\n",
    "new_row = pd.DataFrame({\n",
    "    'modelname': ['KNN'],\n",
    "    'hyperparameter': ['n_neighbors: 2, weights: distance']\n",
    "})\n",
    "# Concatenate the new row to the existing DataFrame\n",
    "df_hyperparameter = pd.concat([df_hyperparameter, new_row], ignore_index=True)\n",
    "df_hyperparameter"
   ]
  },
  {
   "cell_type": "markdown",
   "id": "d8761cc7",
   "metadata": {},
   "source": [
    "### Model 4- Random forest Model "
   ]
  },
  {
   "cell_type": "code",
   "execution_count": 44,
   "id": "22c03786",
   "metadata": {},
   "outputs": [],
   "source": [
    "from sklearn.ensemble import RandomForestClassifier\n",
    "#rf=RandomForestClassifier()\n",
    "# params={'criterion' : ['gini', 'entropy'],\n",
    "#     'max_features' : ['sqrt', 'log2']}\n",
    "# gs_rf=GridSearchCV(estimator=rf,\n",
    "#                   cv=cv_method,\n",
    "#                   param_grid=params,\n",
    "#                   verbose=1,\n",
    "#                   n_jobs=-1,\n",
    "#                   scoring='accuracy')\n",
    "# gs_rf.fit(X_train,y_train)\n",
    "# print(gs_rf.best_estimator_)"
   ]
  },
  {
   "cell_type": "code",
   "execution_count": 45,
   "id": "89592bc6",
   "metadata": {},
   "outputs": [
    {
     "data": {
      "text/html": [
       "<div>\n",
       "<style scoped>\n",
       "    .dataframe tbody tr th:only-of-type {\n",
       "        vertical-align: middle;\n",
       "    }\n",
       "\n",
       "    .dataframe tbody tr th {\n",
       "        vertical-align: top;\n",
       "    }\n",
       "\n",
       "    .dataframe thead th {\n",
       "        text-align: right;\n",
       "    }\n",
       "</style>\n",
       "<table border=\"1\" class=\"dataframe\">\n",
       "  <thead>\n",
       "    <tr style=\"text-align: right;\">\n",
       "      <th></th>\n",
       "      <th>modelname</th>\n",
       "      <th>hyperparameter</th>\n",
       "    </tr>\n",
       "  </thead>\n",
       "  <tbody>\n",
       "    <tr>\n",
       "      <th>0</th>\n",
       "      <td>MultiNB</td>\n",
       "      <td>MultinomialNB(alpha=0.1,1)</td>\n",
       "    </tr>\n",
       "    <tr>\n",
       "      <th>1</th>\n",
       "      <td>SVC</td>\n",
       "      <td>SVC(C=10, gamma=0.1)</td>\n",
       "    </tr>\n",
       "    <tr>\n",
       "      <th>2</th>\n",
       "      <td>KNN</td>\n",
       "      <td>n_neighbors: 2, weights: distance</td>\n",
       "    </tr>\n",
       "    <tr>\n",
       "      <th>3</th>\n",
       "      <td>RF</td>\n",
       "      <td>criterion: gini, max_features: sqrt</td>\n",
       "    </tr>\n",
       "  </tbody>\n",
       "</table>\n",
       "</div>"
      ],
      "text/plain": [
       "  modelname                       hyperparameter\n",
       "0   MultiNB           MultinomialNB(alpha=0.1,1)\n",
       "1       SVC                 SVC(C=10, gamma=0.1)\n",
       "2       KNN    n_neighbors: 2, weights: distance\n",
       "3        RF  criterion: gini, max_features: sqrt"
      ]
     },
     "execution_count": 45,
     "metadata": {},
     "output_type": "execute_result"
    }
   ],
   "source": [
    "#RF best hyperparameter -{'criterion': 'gini', 'max_features': 'sqrt'}\n",
    "#df_hyperparameter=df_hyperparameter.append({'modelname':'RF','hyperparameter':'criterion: gini, max_features: sqrt'},ignore_index=True)\n",
    "\n",
    "new_row = pd.DataFrame({\n",
    "    'modelname': ['RF'],\n",
    "    'hyperparameter': ['criterion: gini, max_features: sqrt']\n",
    "})\n",
    "# Concatenate the new row to the existing DataFrame\n",
    "df_hyperparameter = pd.concat([df_hyperparameter, new_row], ignore_index=True)\n",
    "df_hyperparameter\n"
   ]
  },
  {
   "cell_type": "markdown",
   "id": "21d59819",
   "metadata": {},
   "source": [
    "### Model 5 - XGBooster "
   ]
  },
  {
   "cell_type": "code",
   "execution_count": 46,
   "id": "9716136c",
   "metadata": {},
   "outputs": [],
   "source": [
    "from xgboost import XGBClassifier\n",
    "XGB=XGBClassifier(learning_rate=0.1,n_estimators=150)\n",
    "# XGB.fit(X_train,y_train)\n",
    "# params={'n_estimators':[100,125,150],\n",
    "#        'learning_rate':[0.05,0.1],\n",
    "#         }\n",
    "\n",
    "# gs_xgb=GridSearchCV(param_grid=params,\n",
    "#                    estimator=XGB,\n",
    "#                    )\n",
    "# gs_xgb.fit(X_train,y_train)\n",
    "\n"
   ]
  },
  {
   "cell_type": "code",
   "execution_count": 48,
   "id": "80a377d0",
   "metadata": {},
   "outputs": [
    {
     "data": {
      "text/html": [
       "<div>\n",
       "<style scoped>\n",
       "    .dataframe tbody tr th:only-of-type {\n",
       "        vertical-align: middle;\n",
       "    }\n",
       "\n",
       "    .dataframe tbody tr th {\n",
       "        vertical-align: top;\n",
       "    }\n",
       "\n",
       "    .dataframe thead th {\n",
       "        text-align: right;\n",
       "    }\n",
       "</style>\n",
       "<table border=\"1\" class=\"dataframe\">\n",
       "  <thead>\n",
       "    <tr style=\"text-align: right;\">\n",
       "      <th></th>\n",
       "      <th>modelname</th>\n",
       "      <th>hyperparameter</th>\n",
       "    </tr>\n",
       "  </thead>\n",
       "  <tbody>\n",
       "    <tr>\n",
       "      <th>0</th>\n",
       "      <td>MultiNB</td>\n",
       "      <td>MultinomialNB(alpha=0.1,1)</td>\n",
       "    </tr>\n",
       "    <tr>\n",
       "      <th>1</th>\n",
       "      <td>SVC</td>\n",
       "      <td>SVC(C=10, gamma=0.1)</td>\n",
       "    </tr>\n",
       "    <tr>\n",
       "      <th>2</th>\n",
       "      <td>KNN</td>\n",
       "      <td>n_neighbors: 2, weights: distance</td>\n",
       "    </tr>\n",
       "    <tr>\n",
       "      <th>3</th>\n",
       "      <td>RF</td>\n",
       "      <td>criterion: gini, max_features: sqrt</td>\n",
       "    </tr>\n",
       "    <tr>\n",
       "      <th>4</th>\n",
       "      <td>XGB</td>\n",
       "      <td>learning_rate: 0.1, n_estimators: 150</td>\n",
       "    </tr>\n",
       "  </tbody>\n",
       "</table>\n",
       "</div>"
      ],
      "text/plain": [
       "  modelname                         hyperparameter\n",
       "0   MultiNB             MultinomialNB(alpha=0.1,1)\n",
       "1       SVC                   SVC(C=10, gamma=0.1)\n",
       "2       KNN      n_neighbors: 2, weights: distance\n",
       "3        RF    criterion: gini, max_features: sqrt\n",
       "4       XGB  learning_rate: 0.1, n_estimators: 150"
      ]
     },
     "execution_count": 48,
     "metadata": {},
     "output_type": "execute_result"
    }
   ],
   "source": [
    "#XGBoost best hyperparameters {'learning_rate': 0.1, 'n_estimators': 150}\n",
    "#df_hyperparameter=df_hyperparameter.append({'modelname':'XGB','hyperparameter':'learning_rate: 0.1, n_estimators: 150'},ignore_index=True)\n",
    "\n",
    "new_row = pd.DataFrame({\n",
    "    'modelname': ['XGB'],\n",
    "    'hyperparameter': ['learning_rate: 0.1, n_estimators: 150']\n",
    "})\n",
    "# Concatenate the new row to the existing DataFrame\n",
    "df_hyperparameter = pd.concat([df_hyperparameter, new_row], ignore_index=True)\n",
    "df_hyperparameter\n"
   ]
  },
  {
   "cell_type": "markdown",
   "id": "b0400304",
   "metadata": {},
   "source": [
    "### Model  6- AdaBoost"
   ]
  },
  {
   "cell_type": "code",
   "execution_count": 49,
   "id": "760d6305",
   "metadata": {},
   "outputs": [],
   "source": [
    "from sklearn.ensemble import AdaBoostClassifier\n",
    "ABoost=AdaBoostClassifier(n_estimators=200,learning_rate=0.1)\n",
    "\n",
    "# params={'n_estimators':[200,300],\n",
    "#         'learning_rate':[0.1]\n",
    "#        }\n",
    "# gs_Aboost=GridSearchCV(estimator=ABoost,\n",
    "#                       cv=cv_method,\n",
    "#                       param_grid=params,\n",
    "#                       scoring='accuracy')\n",
    "\n",
    "# gs_Aboost.fit(X_train,y_train)\n"
   ]
  },
  {
   "cell_type": "code",
   "execution_count": null,
   "id": "4d547ae1",
   "metadata": {},
   "outputs": [],
   "source": [
    "#adaboost hyperparammeter  best - AdaBoostClassifier(learning_rate=0.1, n_estimators=200)\n"
   ]
  },
  {
   "cell_type": "code",
   "execution_count": 50,
   "id": "8280ffbc",
   "metadata": {},
   "outputs": [
    {
     "data": {
      "text/html": [
       "<div>\n",
       "<style scoped>\n",
       "    .dataframe tbody tr th:only-of-type {\n",
       "        vertical-align: middle;\n",
       "    }\n",
       "\n",
       "    .dataframe tbody tr th {\n",
       "        vertical-align: top;\n",
       "    }\n",
       "\n",
       "    .dataframe thead th {\n",
       "        text-align: right;\n",
       "    }\n",
       "</style>\n",
       "<table border=\"1\" class=\"dataframe\">\n",
       "  <thead>\n",
       "    <tr style=\"text-align: right;\">\n",
       "      <th></th>\n",
       "      <th>modelname</th>\n",
       "      <th>hyperparameter</th>\n",
       "    </tr>\n",
       "  </thead>\n",
       "  <tbody>\n",
       "    <tr>\n",
       "      <th>0</th>\n",
       "      <td>MultiNB</td>\n",
       "      <td>MultinomialNB(alpha=0.1,1)</td>\n",
       "    </tr>\n",
       "    <tr>\n",
       "      <th>1</th>\n",
       "      <td>SVC</td>\n",
       "      <td>SVC(C=10, gamma=0.1)</td>\n",
       "    </tr>\n",
       "    <tr>\n",
       "      <th>2</th>\n",
       "      <td>KNN</td>\n",
       "      <td>n_neighbors: 2, weights: distance</td>\n",
       "    </tr>\n",
       "    <tr>\n",
       "      <th>3</th>\n",
       "      <td>RF</td>\n",
       "      <td>criterion: gini, max_features: sqrt</td>\n",
       "    </tr>\n",
       "    <tr>\n",
       "      <th>4</th>\n",
       "      <td>XGB</td>\n",
       "      <td>learning_rate: 0.1, n_estimators: 150</td>\n",
       "    </tr>\n",
       "    <tr>\n",
       "      <th>5</th>\n",
       "      <td>ABoost</td>\n",
       "      <td>learning_rate: 0.1, n_estimators: 150</td>\n",
       "    </tr>\n",
       "  </tbody>\n",
       "</table>\n",
       "</div>"
      ],
      "text/plain": [
       "  modelname                         hyperparameter\n",
       "0   MultiNB             MultinomialNB(alpha=0.1,1)\n",
       "1       SVC                   SVC(C=10, gamma=0.1)\n",
       "2       KNN      n_neighbors: 2, weights: distance\n",
       "3        RF    criterion: gini, max_features: sqrt\n",
       "4       XGB  learning_rate: 0.1, n_estimators: 150\n",
       "5    ABoost  learning_rate: 0.1, n_estimators: 150"
      ]
     },
     "execution_count": 50,
     "metadata": {},
     "output_type": "execute_result"
    }
   ],
   "source": [
    "#df_hyperparameter=df_hyperparameter.append({'modelname':'ABoost','hyperparameter':'learning_rate: 0.1, n_estimators: 200'},ignore_index=True)\n",
    "\n",
    "new_row = pd.DataFrame({\n",
    "    'modelname': ['ABoost'],\n",
    "    'hyperparameter': ['learning_rate: 0.1, n_estimators: 150']\n",
    "})\n",
    "# Concatenate the new row to the existing DataFrame\n",
    "df_hyperparameter = pd.concat([df_hyperparameter, new_row], ignore_index=True)\n",
    "df_hyperparameter\n"
   ]
  },
  {
   "cell_type": "markdown",
   "id": "059ca825",
   "metadata": {},
   "source": [
    "### Hyperparameter tuning competed , lets fit all  the 6 models "
   ]
  },
  {
   "cell_type": "code",
   "execution_count": 52,
   "id": "9b9613b2",
   "metadata": {},
   "outputs": [],
   "source": [
    "#creating instance for all the best available models \n",
    "from sklearn.ensemble import StackingClassifier\n",
    "from sklearn.ensemble import VotingClassifier\n",
    "from sklearn.neighbors import KNeighborsClassifier\n",
    "\n",
    "mnb=MultinomialNB(alpha=0.1) #multinominal naives bayes\n",
    "svc=SVC(C=10,gamma=0.1,kernel='sigmoid',probability=True) #support vector machine\n",
    "knn=KNeighborsClassifier() #k-nearest neighnour\n",
    "rf=RandomForestClassifier(criterion='gini',max_features='sqrt',random_state=33) #random forest\n",
    "xgb=XGBClassifier(learning_rate=0.1,n_estimators=150,random_state=33) #Extreme gradient boosting\n",
    "adbst=AdaBoostClassifier(learning_rate=0.1,n_estimators=200,random_state=33) #adaptive boosting\n",
    "\n",
    "estimators=[('nb',mnb),('svc',svc),('xg',xgb)]\n",
    "Vclf=VotingClassifier(estimators=estimators,voting='soft') #voting classifier\n",
    "\n",
    "final_estimator=rf\n",
    "sclf=StackingClassifier(estimators=estimators,final_estimator=final_estimator) #stcking classifier\n",
    "\n"
   ]
  },
  {
   "cell_type": "code",
   "execution_count": 53,
   "id": "7c28b1e0",
   "metadata": {},
   "outputs": [
    {
     "name": "stdout",
     "output_type": "stream",
     "text": [
      "MultinomialNB\n",
      "confusion matrix -\n",
      " [[1436   13]\n",
      " [  21  202]]\n",
      "\n",
      "accuracy score : 0.9796650717703349\n",
      "Precision for positive class is [0.98558682 0.93953488]\n",
      "TPR/Recall is 0.9484\n",
      "TNR/Specifity is 0.9484\n",
      "FPR is 0.0516\n",
      "F1 score is - 0.9223744292237442\n",
      "\n",
      " classification report - :\n",
      "               precision    recall  f1-score   support\n",
      "\n",
      "           0       0.99      0.99      0.99      1449\n",
      "           1       0.94      0.91      0.92       223\n",
      "\n",
      "    accuracy                           0.98      1672\n",
      "   macro avg       0.96      0.95      0.96      1672\n",
      "weighted avg       0.98      0.98      0.98      1672\n",
      "\n",
      "ROC -0.9484289458943388 \n"
     ]
    },
    {
     "data": {
      "image/png": "[encoded data removed]",
      "text/plain": [
       "<Figure size 640x480 with 1 Axes>"
      ]
     },
     "metadata": {},
     "output_type": "display_data"
    },
    {
     "name": "stdout",
     "output_type": "stream",
     "text": [
      "SVC\n",
      "confusion matrix -\n",
      " [[1446    3]\n",
      " [  37  186]]\n",
      "\n",
      "accuracy score : 0.9760765550239234\n",
      "Precision for positive class is [0.97505057 0.98412698]\n",
      "TPR/Recall is 0.916\n",
      "TNR/Specifity is 0.916\n",
      "FPR is 0.084\n",
      "F1 score is - 0.9029126213592233\n",
      "\n",
      " classification report - :\n",
      "               precision    recall  f1-score   support\n",
      "\n",
      "           0       0.98      1.00      0.99      1449\n",
      "           1       0.98      0.83      0.90       223\n",
      "\n",
      "    accuracy                           0.98      1672\n",
      "   macro avg       0.98      0.92      0.94      1672\n",
      "weighted avg       0.98      0.98      0.98      1672\n",
      "\n",
      "ROC -0.916005162057024 \n"
     ]
    },
    {
     "data": {
      "image/png": "[encoded data removed]",
      "text/plain": [
       "<Figure size 640x480 with 1 Axes>"
      ]
     },
     "metadata": {},
     "output_type": "display_data"
    },
    {
     "name": "stdout",
     "output_type": "stream",
     "text": [
      "KNeighborsClassifier\n",
      "confusion matrix -\n",
      " [[1449    0]\n",
      " [ 160   63]]\n",
      "\n",
      "accuracy score : 0.9043062200956937\n",
      "Precision for positive class is [0.90055935 1.        ]\n",
      "TPR/Recall is 0.6413\n",
      "TNR/Specifity is 0.6413\n",
      "FPR is 0.3587\n",
      "F1 score is - 0.4405594405594406\n",
      "\n",
      " classification report - :\n",
      "               precision    recall  f1-score   support\n",
      "\n",
      "           0       0.90      1.00      0.95      1449\n",
      "           1       1.00      0.28      0.44       223\n",
      "\n",
      "    accuracy                           0.90      1672\n",
      "   macro avg       0.95      0.64      0.69      1672\n",
      "weighted avg       0.91      0.90      0.88      1672\n",
      "\n",
      "ROC -0.6412556053811659 \n"
     ]
    },
    {
     "data": {
      "image/png": "[encoded data removed]",
      "text/plain": [
       "<Figure size 640x480 with 1 Axes>"
      ]
     },
     "metadata": {},
     "output_type": "display_data"
    },
    {
     "name": "stdout",
     "output_type": "stream",
     "text": [
      "RandomForestClassifier\n",
      "confusion matrix -\n",
      " [[1444    5]\n",
      " [  47  176]]\n",
      "\n",
      "accuracy score : 0.9688995215311005\n",
      "Precision for positive class is [0.96847753 0.97237569]\n",
      "TPR/Recall is 0.8929\n",
      "TNR/Specifity is 0.8929\n",
      "FPR is 0.1071\n",
      "F1 score is - 0.8712871287128713\n",
      "\n",
      " classification report - :\n",
      "               precision    recall  f1-score   support\n",
      "\n",
      "           0       0.97      1.00      0.98      1449\n",
      "           1       0.97      0.79      0.87       223\n",
      "\n",
      "    accuracy                           0.97      1672\n",
      "   macro avg       0.97      0.89      0.93      1672\n",
      "weighted avg       0.97      0.97      0.97      1672\n",
      "\n",
      "ROC -0.8928935062684331 \n"
     ]
    },
    {
     "data": {
      "image/png": "[encoded data removed]",
      "text/plain": [
       "<Figure size 640x480 with 1 Axes>"
      ]
     },
     "metadata": {},
     "output_type": "display_data"
    },
    {
     "name": "stdout",
     "output_type": "stream",
     "text": [
      "XGBClassifier\n",
      "confusion matrix -\n",
      " [[1435   14]\n",
      " [  39  184]]\n",
      "\n",
      "accuracy score : 0.9683014354066986\n",
      "Precision for positive class is [0.97354138 0.92929293]\n",
      "TPR/Recall is 0.9077\n",
      "TNR/Specifity is 0.9077\n",
      "FPR is 0.0923\n",
      "F1 score is - 0.8741092636579573\n",
      "\n",
      " classification report - :\n",
      "               precision    recall  f1-score   support\n",
      "\n",
      "           0       0.97      0.99      0.98      1449\n",
      "           1       0.93      0.83      0.87       223\n",
      "\n",
      "    accuracy                           0.97      1672\n",
      "   macro avg       0.95      0.91      0.93      1672\n",
      "weighted avg       0.97      0.97      0.97      1672\n",
      "\n",
      "ROC -0.9077251359372631 \n"
     ]
    },
    {
     "data": {
      "image/png": "[encoded data removed]",
      "text/plain": [
       "<Figure size 640x480 with 1 Axes>"
      ]
     },
     "metadata": {},
     "output_type": "display_data"
    },
    {
     "name": "stdout",
     "output_type": "stream",
     "text": [
      "AdaBoostClassifier\n",
      "confusion matrix -\n",
      " [[1447    2]\n",
      " [  61  162]]\n",
      "\n",
      "accuracy score : 0.9623205741626795\n",
      "Precision for positive class is [0.95954907 0.98780488]\n",
      "TPR/Recall is 0.8625\n",
      "TNR/Specifity is 0.8625\n",
      "FPR is 0.1375\n",
      "F1 score is - 0.8372093023255814\n",
      "\n",
      " classification report - :\n",
      "               precision    recall  f1-score   support\n",
      "\n",
      "           0       0.96      1.00      0.98      1449\n",
      "           1       0.99      0.73      0.84       223\n",
      "\n",
      "    accuracy                           0.96      1672\n",
      "   macro avg       0.97      0.86      0.91      1672\n",
      "weighted avg       0.96      0.96      0.96      1672\n",
      "\n",
      "ROC -0.8625385684266557 \n"
     ]
    },
    {
     "data": {
      "image/png": "[encoded data removed]",
      "text/plain": [
       "<Figure size 640x480 with 1 Axes>"
      ]
     },
     "metadata": {},
     "output_type": "display_data"
    },
    {
     "name": "stdout",
     "output_type": "stream",
     "text": [
      "VotingClassifier\n",
      "confusion matrix -\n",
      " [[1445    4]\n",
      " [  26  197]]\n",
      "\n",
      "accuracy score : 0.9820574162679426\n",
      "Precision for positive class is [0.98232495 0.9800995 ]\n",
      "TPR/Recall is 0.9403\n",
      "TNR/Specifity is 0.9403\n",
      "FPR is 0.0597\n",
      "F1 score is - 0.9292452830188679\n",
      "\n",
      " classification report - :\n",
      "               precision    recall  f1-score   support\n",
      "\n",
      "           0       0.98      1.00      0.99      1449\n",
      "           1       0.98      0.88      0.93       223\n",
      "\n",
      "    accuracy                           0.98      1672\n",
      "   macro avg       0.98      0.94      0.96      1672\n",
      "weighted avg       0.98      0.98      0.98      1672\n",
      "\n",
      "ROC -0.9403237736246121 \n"
     ]
    },
    {
     "data": {
      "image/png": "[encoded data removed]",
      "text/plain": [
       "<Figure size 640x480 with 1 Axes>"
      ]
     },
     "metadata": {},
     "output_type": "display_data"
    },
    {
     "name": "stdout",
     "output_type": "stream",
     "text": [
      "StackingClassifier\n",
      "confusion matrix -\n",
      " [[1441    8]\n",
      " [  19  204]]\n",
      "\n",
      "accuracy score : 0.9838516746411483\n",
      "Precision for positive class is [0.9869863  0.96226415]\n",
      "TPR/Recall is 0.9546\n",
      "TNR/Specifity is 0.9546\n",
      "FPR is 0.0454\n",
      "F1 score is - 0.9379310344827586\n",
      "\n",
      " classification report - :\n",
      "               precision    recall  f1-score   support\n",
      "\n",
      "           0       0.99      0.99      0.99      1449\n",
      "           1       0.96      0.91      0.94       223\n",
      "\n",
      "    accuracy                           0.98      1672\n",
      "   macro avg       0.97      0.95      0.96      1672\n",
      "weighted avg       0.98      0.98      0.98      1672\n",
      "\n",
      "ROC -0.9546385786393585 \n"
     ]
    },
    {
     "data": {
      "image/png": "[encoded data removed]",
      "text/plain": [
       "<Figure size 640x480 with 1 Axes>"
      ]
     },
     "metadata": {},
     "output_type": "display_data"
    },
    {
     "name": "stdout",
     "output_type": "stream",
     "text": [
      "CPU times: total: 14min 14s\n",
      "Wall time: 20min 2s\n"
     ]
    }
   ],
   "source": [
    "%%time\n",
    "#fit the train data of each model and save the output to dataframe\n",
    "for modl in (mnb,svc,knn,rf,xgb,adbst,Vclf,sclf):\n",
    "    print(type(modl).__name__)\n",
    "    modl.fit(X_train,y_train)\n",
    "    y_pred=modl.predict(X_test)\n",
    "    y_pred_prob=modl.predict_proba(X_test)\n",
    "    df_models_output.loc[len(df_models_output)]=compute_evaluation_metric(type(modl).__name__,X_test,y_test,y_pred,y_pred_prob)\n",
    "    "
   ]
  },
  {
   "cell_type": "code",
   "execution_count": 54,
   "id": "f6477386",
   "metadata": {},
   "outputs": [
    {
     "data": {
      "text/html": [
       "<div>\n",
       "<style scoped>\n",
       "    .dataframe tbody tr th:only-of-type {\n",
       "        vertical-align: middle;\n",
       "    }\n",
       "\n",
       "    .dataframe tbody tr th {\n",
       "        vertical-align: top;\n",
       "    }\n",
       "\n",
       "    .dataframe thead th {\n",
       "        text-align: right;\n",
       "    }\n",
       "</style>\n",
       "<table border=\"1\" class=\"dataframe\">\n",
       "  <thead>\n",
       "    <tr style=\"text-align: right;\">\n",
       "      <th></th>\n",
       "      <th>model</th>\n",
       "      <th>accuracy</th>\n",
       "      <th>precision</th>\n",
       "      <th>recall</th>\n",
       "      <th>roc</th>\n",
       "      <th>f1_score</th>\n",
       "    </tr>\n",
       "  </thead>\n",
       "  <tbody>\n",
       "    <tr>\n",
       "      <th>7</th>\n",
       "      <td>StackingClassifier</td>\n",
       "      <td>0.983852</td>\n",
       "      <td>[0.986986301369863, 0.9622641509433962]</td>\n",
       "      <td>0.9546</td>\n",
       "      <td>0.954639</td>\n",
       "      <td>0.937931</td>\n",
       "    </tr>\n",
       "    <tr>\n",
       "      <th>6</th>\n",
       "      <td>VotingClassifier</td>\n",
       "      <td>0.982057</td>\n",
       "      <td>[0.982324949014276, 0.9800995024875622]</td>\n",
       "      <td>0.9403</td>\n",
       "      <td>0.940324</td>\n",
       "      <td>0.929245</td>\n",
       "    </tr>\n",
       "    <tr>\n",
       "      <th>0</th>\n",
       "      <td>MultinomialNB</td>\n",
       "      <td>0.979665</td>\n",
       "      <td>[0.9855868222374743, 0.9395348837209302]</td>\n",
       "      <td>0.9484</td>\n",
       "      <td>0.948429</td>\n",
       "      <td>0.922374</td>\n",
       "    </tr>\n",
       "    <tr>\n",
       "      <th>1</th>\n",
       "      <td>SVC</td>\n",
       "      <td>0.976077</td>\n",
       "      <td>[0.9750505731625084, 0.9841269841269841]</td>\n",
       "      <td>0.9160</td>\n",
       "      <td>0.916005</td>\n",
       "      <td>0.902913</td>\n",
       "    </tr>\n",
       "    <tr>\n",
       "      <th>3</th>\n",
       "      <td>RandomForestClassifier</td>\n",
       "      <td>0.968900</td>\n",
       "      <td>[0.9684775318578136, 0.9723756906077348]</td>\n",
       "      <td>0.8929</td>\n",
       "      <td>0.892894</td>\n",
       "      <td>0.871287</td>\n",
       "    </tr>\n",
       "    <tr>\n",
       "      <th>4</th>\n",
       "      <td>XGBClassifier</td>\n",
       "      <td>0.968301</td>\n",
       "      <td>[0.9735413839891451, 0.9292929292929293]</td>\n",
       "      <td>0.9077</td>\n",
       "      <td>0.907725</td>\n",
       "      <td>0.874109</td>\n",
       "    </tr>\n",
       "    <tr>\n",
       "      <th>5</th>\n",
       "      <td>AdaBoostClassifier</td>\n",
       "      <td>0.962321</td>\n",
       "      <td>[0.9595490716180372, 0.9878048780487805]</td>\n",
       "      <td>0.8625</td>\n",
       "      <td>0.862539</td>\n",
       "      <td>0.837209</td>\n",
       "    </tr>\n",
       "    <tr>\n",
       "      <th>2</th>\n",
       "      <td>KNeighborsClassifier</td>\n",
       "      <td>0.904306</td>\n",
       "      <td>[0.9005593536357986, 1.0]</td>\n",
       "      <td>0.6413</td>\n",
       "      <td>0.641256</td>\n",
       "      <td>0.440559</td>\n",
       "    </tr>\n",
       "  </tbody>\n",
       "</table>\n",
       "</div>"
      ],
      "text/plain": [
       "                    model  accuracy                                 precision  \\\n",
       "7      StackingClassifier  0.983852   [0.986986301369863, 0.9622641509433962]   \n",
       "6        VotingClassifier  0.982057   [0.982324949014276, 0.9800995024875622]   \n",
       "0           MultinomialNB  0.979665  [0.9855868222374743, 0.9395348837209302]   \n",
       "1                     SVC  0.976077  [0.9750505731625084, 0.9841269841269841]   \n",
       "3  RandomForestClassifier  0.968900  [0.9684775318578136, 0.9723756906077348]   \n",
       "4           XGBClassifier  0.968301  [0.9735413839891451, 0.9292929292929293]   \n",
       "5      AdaBoostClassifier  0.962321  [0.9595490716180372, 0.9878048780487805]   \n",
       "2    KNeighborsClassifier  0.904306                 [0.9005593536357986, 1.0]   \n",
       "\n",
       "   recall       roc  f1_score  \n",
       "7  0.9546  0.954639  0.937931  \n",
       "6  0.9403  0.940324  0.929245  \n",
       "0  0.9484  0.948429  0.922374  \n",
       "1  0.9160  0.916005  0.902913  \n",
       "3  0.8929  0.892894  0.871287  \n",
       "4  0.9077  0.907725  0.874109  \n",
       "5  0.8625  0.862539  0.837209  \n",
       "2  0.6413  0.641256  0.440559  "
      ]
     },
     "execution_count": 54,
     "metadata": {},
     "output_type": "execute_result"
    }
   ],
   "source": [
    "#sorting the models output by accuracya nd f1_score\n",
    "df_models_output.sort_values(by=['accuracy','f1_score'],ascending=False)"
   ]
  },
  {
   "cell_type": "markdown",
   "id": "fb3b15f9",
   "metadata": {},
   "source": [
    "<div class=\"alert alert-info\" style=\"background-color:Black; color:white; padding:10px; border-radius:5px;\">\n",
    "        <ul style=\"list-style-type: disc; padding-left: 20px;\">\n",
    "            <li><h2> Accuracy</h2>sample text</li>\n",
    "            <li><h2> Precision</h2>sample text</li>\n",
    "            <li><h2> Recall</h2>sample text</li>\n",
    "            <li><h2> TNR</h2> sample text</li>\n",
    "        </ul>\n",
    "    </div>\n"
   ]
  },
  {
   "cell_type": "markdown",
   "id": "6337071f",
   "metadata": {},
   "source": []
  },
  {
   "cell_type": "code",
   "execution_count": 55,
   "id": "a1514a72",
   "metadata": {},
   "outputs": [],
   "source": [
    "y_pred_mnb=mnb.predict(X_test)\n",
    "y_pred_sclf=sclf.predict(X_test)"
   ]
  },
  {
   "cell_type": "code",
   "execution_count": 56,
   "id": "735bcc78",
   "metadata": {},
   "outputs": [
    {
     "data": {
      "text/html": [
       "<div>\n",
       "<style scoped>\n",
       "    .dataframe tbody tr th:only-of-type {\n",
       "        vertical-align: middle;\n",
       "    }\n",
       "\n",
       "    .dataframe tbody tr th {\n",
       "        vertical-align: top;\n",
       "    }\n",
       "\n",
       "    .dataframe thead th {\n",
       "        text-align: right;\n",
       "    }\n",
       "</style>\n",
       "<table border=\"1\" class=\"dataframe\">\n",
       "  <thead>\n",
       "    <tr style=\"text-align: right;\">\n",
       "      <th></th>\n",
       "      <th>y_test</th>\n",
       "      <th>mnb</th>\n",
       "      <th>stacking</th>\n",
       "    </tr>\n",
       "  </thead>\n",
       "  <tbody>\n",
       "    <tr>\n",
       "      <th>3362</th>\n",
       "      <td>0</td>\n",
       "      <td>1</td>\n",
       "      <td>0</td>\n",
       "    </tr>\n",
       "    <tr>\n",
       "      <th>2662</th>\n",
       "      <td>1</td>\n",
       "      <td>0</td>\n",
       "      <td>0</td>\n",
       "    </tr>\n",
       "    <tr>\n",
       "      <th>4254</th>\n",
       "      <td>1</td>\n",
       "      <td>0</td>\n",
       "      <td>1</td>\n",
       "    </tr>\n",
       "    <tr>\n",
       "      <th>3883</th>\n",
       "      <td>1</td>\n",
       "      <td>0</td>\n",
       "      <td>0</td>\n",
       "    </tr>\n",
       "    <tr>\n",
       "      <th>3979</th>\n",
       "      <td>1</td>\n",
       "      <td>0</td>\n",
       "      <td>0</td>\n",
       "    </tr>\n",
       "    <tr>\n",
       "      <th>2967</th>\n",
       "      <td>0</td>\n",
       "      <td>1</td>\n",
       "      <td>0</td>\n",
       "    </tr>\n",
       "    <tr>\n",
       "      <th>1637</th>\n",
       "      <td>1</td>\n",
       "      <td>0</td>\n",
       "      <td>0</td>\n",
       "    </tr>\n",
       "    <tr>\n",
       "      <th>1457</th>\n",
       "      <td>1</td>\n",
       "      <td>0</td>\n",
       "      <td>0</td>\n",
       "    </tr>\n",
       "    <tr>\n",
       "      <th>3304</th>\n",
       "      <td>0</td>\n",
       "      <td>1</td>\n",
       "      <td>0</td>\n",
       "    </tr>\n",
       "    <tr>\n",
       "      <th>3434</th>\n",
       "      <td>0</td>\n",
       "      <td>1</td>\n",
       "      <td>1</td>\n",
       "    </tr>\n",
       "    <tr>\n",
       "      <th>954</th>\n",
       "      <td>1</td>\n",
       "      <td>0</td>\n",
       "      <td>0</td>\n",
       "    </tr>\n",
       "    <tr>\n",
       "      <th>5081</th>\n",
       "      <td>0</td>\n",
       "      <td>1</td>\n",
       "      <td>0</td>\n",
       "    </tr>\n",
       "    <tr>\n",
       "      <th>787</th>\n",
       "      <td>1</td>\n",
       "      <td>0</td>\n",
       "      <td>1</td>\n",
       "    </tr>\n",
       "    <tr>\n",
       "      <th>3862</th>\n",
       "      <td>1</td>\n",
       "      <td>0</td>\n",
       "      <td>0</td>\n",
       "    </tr>\n",
       "    <tr>\n",
       "      <th>4752</th>\n",
       "      <td>1</td>\n",
       "      <td>0</td>\n",
       "      <td>0</td>\n",
       "    </tr>\n",
       "    <tr>\n",
       "      <th>990</th>\n",
       "      <td>0</td>\n",
       "      <td>1</td>\n",
       "      <td>0</td>\n",
       "    </tr>\n",
       "    <tr>\n",
       "      <th>1153</th>\n",
       "      <td>1</td>\n",
       "      <td>0</td>\n",
       "      <td>1</td>\n",
       "    </tr>\n",
       "    <tr>\n",
       "      <th>4142</th>\n",
       "      <td>1</td>\n",
       "      <td>0</td>\n",
       "      <td>0</td>\n",
       "    </tr>\n",
       "    <tr>\n",
       "      <th>5094</th>\n",
       "      <td>0</td>\n",
       "      <td>1</td>\n",
       "      <td>1</td>\n",
       "    </tr>\n",
       "    <tr>\n",
       "      <th>190</th>\n",
       "      <td>1</td>\n",
       "      <td>0</td>\n",
       "      <td>0</td>\n",
       "    </tr>\n",
       "    <tr>\n",
       "      <th>2635</th>\n",
       "      <td>0</td>\n",
       "      <td>1</td>\n",
       "      <td>0</td>\n",
       "    </tr>\n",
       "    <tr>\n",
       "      <th>2569</th>\n",
       "      <td>0</td>\n",
       "      <td>1</td>\n",
       "      <td>0</td>\n",
       "    </tr>\n",
       "    <tr>\n",
       "      <th>2002</th>\n",
       "      <td>1</td>\n",
       "      <td>0</td>\n",
       "      <td>1</td>\n",
       "    </tr>\n",
       "    <tr>\n",
       "      <th>3452</th>\n",
       "      <td>0</td>\n",
       "      <td>1</td>\n",
       "      <td>1</td>\n",
       "    </tr>\n",
       "    <tr>\n",
       "      <th>3528</th>\n",
       "      <td>1</td>\n",
       "      <td>0</td>\n",
       "      <td>0</td>\n",
       "    </tr>\n",
       "    <tr>\n",
       "      <th>2247</th>\n",
       "      <td>1</td>\n",
       "      <td>0</td>\n",
       "      <td>1</td>\n",
       "    </tr>\n",
       "    <tr>\n",
       "      <th>5540</th>\n",
       "      <td>1</td>\n",
       "      <td>0</td>\n",
       "      <td>0</td>\n",
       "    </tr>\n",
       "    <tr>\n",
       "      <th>4555</th>\n",
       "      <td>0</td>\n",
       "      <td>1</td>\n",
       "      <td>0</td>\n",
       "    </tr>\n",
       "    <tr>\n",
       "      <th>5370</th>\n",
       "      <td>1</td>\n",
       "      <td>0</td>\n",
       "      <td>0</td>\n",
       "    </tr>\n",
       "    <tr>\n",
       "      <th>1742</th>\n",
       "      <td>0</td>\n",
       "      <td>1</td>\n",
       "      <td>0</td>\n",
       "    </tr>\n",
       "    <tr>\n",
       "      <th>730</th>\n",
       "      <td>1</td>\n",
       "      <td>0</td>\n",
       "      <td>1</td>\n",
       "    </tr>\n",
       "    <tr>\n",
       "      <th>4247</th>\n",
       "      <td>1</td>\n",
       "      <td>0</td>\n",
       "      <td>0</td>\n",
       "    </tr>\n",
       "    <tr>\n",
       "      <th>4935</th>\n",
       "      <td>0</td>\n",
       "      <td>1</td>\n",
       "      <td>1</td>\n",
       "    </tr>\n",
       "    <tr>\n",
       "      <th>5</th>\n",
       "      <td>1</td>\n",
       "      <td>0</td>\n",
       "      <td>0</td>\n",
       "    </tr>\n",
       "  </tbody>\n",
       "</table>\n",
       "</div>"
      ],
      "text/plain": [
       "      y_test  mnb  stacking\n",
       "3362       0    1         0\n",
       "2662       1    0         0\n",
       "4254       1    0         1\n",
       "3883       1    0         0\n",
       "3979       1    0         0\n",
       "2967       0    1         0\n",
       "1637       1    0         0\n",
       "1457       1    0         0\n",
       "3304       0    1         0\n",
       "3434       0    1         1\n",
       "954        1    0         0\n",
       "5081       0    1         0\n",
       "787        1    0         1\n",
       "3862       1    0         0\n",
       "4752       1    0         0\n",
       "990        0    1         0\n",
       "1153       1    0         1\n",
       "4142       1    0         0\n",
       "5094       0    1         1\n",
       "190        1    0         0\n",
       "2635       0    1         0\n",
       "2569       0    1         0\n",
       "2002       1    0         1\n",
       "3452       0    1         1\n",
       "3528       1    0         0\n",
       "2247       1    0         1\n",
       "5540       1    0         0\n",
       "4555       0    1         0\n",
       "5370       1    0         0\n",
       "1742       0    1         0\n",
       "730        1    0         1\n",
       "4247       1    0         0\n",
       "4935       0    1         1\n",
       "5          1    0         0"
      ]
     },
     "execution_count": 56,
     "metadata": {},
     "output_type": "execute_result"
    }
   ],
   "source": [
    "df_test=pd.DataFrame({'y_test':y_test,'mnb':y_pred_mnb,'stacking':y_pred_sclf})\n",
    "df_test[df_test['y_test']!=df_test['mnb']]"
   ]
  },
  {
   "cell_type": "code",
   "execution_count": null,
   "id": "77ce3a11",
   "metadata": {},
   "outputs": [],
   "source": []
  },
  {
   "cell_type": "code",
   "execution_count": null,
   "id": "f7c46c6a",
   "metadata": {},
   "outputs": [],
   "source": []
  },
  {
   "cell_type": "markdown",
   "id": "46713e1a",
   "metadata": {},
   "source": [
    "#### Inference-  since out target variable(label) is imbalanced thats why we will focus on f1_score  more than accuracy and other metrics and stacking classifier has highest f1_score and accuracy and roc"
   ]
  },
  {
   "cell_type": "markdown",
   "id": "db336ded",
   "metadata": {},
   "source": [
    "<div class=\"alert alert-info\" style=\"background-color:#006a79; color:white; padding:0px 10px; border-radius:5px;\"><h2 style='margin:10px 5px'>6.Model Persistence (Deployment)</h2>\n",
    "</div>"
   ]
  },
  {
   "cell_type": "markdown",
   "id": "2059d220",
   "metadata": {},
   "source": [
    "### save the model using pythons built in persistence model, namely pickle "
   ]
  },
  {
   "cell_type": "code",
   "execution_count": 57,
   "id": "fdfc5ffc",
   "metadata": {},
   "outputs": [],
   "source": [
    "import pickle  #used to create pickle files\n",
    "import joblib  #used to save models\n"
   ]
  },
  {
   "cell_type": "markdown",
   "id": "d0b2799e",
   "metadata": {},
   "source": [
    "####  we will load the stacking  model and tfid \n",
    "#### we will first save the model locally and then will deploy it to AWS EC2"
   ]
  },
  {
   "cell_type": "code",
   "execution_count": 58,
   "id": "a3df1b09",
   "metadata": {},
   "outputs": [
    {
     "name": "stdout",
     "output_type": "stream",
     "text": [
      "creating pickle file\n"
     ]
    }
   ],
   "source": [
    "print(\"creating pickle file\")\n",
    "pickle.dump(sclf,open('spam_detector.pkl','wb'))\n",
    "pickle.dump(tf,open('vectorizer.pkl','wb'))\n",
    "pickle.dump(mnb,open('mnb_spam_detector.pkl','wb'))\n"
   ]
  },
  {
   "cell_type": "code",
   "execution_count": null,
   "id": "7b690dcd",
   "metadata": {},
   "outputs": [],
   "source": []
  }
 ],
 "metadata": {
  "availableInstances": [
   {
    "_defaultOrder": 0,
    "_isFastLaunch": true,
    "category": "General purpose",
    "gpuNum": 0,
    "hideHardwareSpecs": false,
    "memoryGiB": 4,
    "name": "ml.t3.medium",
    "vcpuNum": 2
   },
   {
    "_defaultOrder": 1,
    "_isFastLaunch": false,
    "category": "General purpose",
    "gpuNum": 0,
    "hideHardwareSpecs": false,
    "memoryGiB": 8,
    "name": "ml.t3.large",
    "vcpuNum": 2
   },
   {
    "_defaultOrder": 2,
    "_isFastLaunch": false,
    "category": "General purpose",
    "gpuNum": 0,
    "hideHardwareSpecs": false,
    "memoryGiB": 16,
    "name": "ml.t3.xlarge",
    "vcpuNum": 4
   },
   {
    "_defaultOrder": 3,
    "_isFastLaunch": false,
    "category": "General purpose",
    "gpuNum": 0,
    "hideHardwareSpecs": false,
    "memoryGiB": 32,
    "name": "ml.t3.2xlarge",
    "vcpuNum": 8
   },
   {
    "_defaultOrder": 4,
    "_isFastLaunch": true,
    "category": "General purpose",
    "gpuNum": 0,
    "hideHardwareSpecs": false,
    "memoryGiB": 8,
    "name": "ml.m5.large",
    "vcpuNum": 2
   },
   {
    "_defaultOrder": 5,
    "_isFastLaunch": false,
    "category": "General purpose",
    "gpuNum": 0,
    "hideHardwareSpecs": false,
    "memoryGiB": 16,
    "name": "ml.m5.xlarge",
    "vcpuNum": 4
   },
   {
    "_defaultOrder": 6,
    "_isFastLaunch": false,
    "category": "General purpose",
    "gpuNum": 0,
    "hideHardwareSpecs": false,
    "memoryGiB": 32,
    "name": "ml.m5.2xlarge",
    "vcpuNum": 8
   },
   {
    "_defaultOrder": 7,
    "_isFastLaunch": false,
    "category": "General purpose",
    "gpuNum": 0,
    "hideHardwareSpecs": false,
    "memoryGiB": 64,
    "name": "ml.m5.4xlarge",
    "vcpuNum": 16
   },
   {
    "_defaultOrder": 8,
    "_isFastLaunch": false,
    "category": "General purpose",
    "gpuNum": 0,
    "hideHardwareSpecs": false,
    "memoryGiB": 128,
    "name": "ml.m5.8xlarge",
    "vcpuNum": 32
   },
   {
    "_defaultOrder": 9,
    "_isFastLaunch": false,
    "category": "General purpose",
    "gpuNum": 0,
    "hideHardwareSpecs": false,
    "memoryGiB": 192,
    "name": "ml.m5.12xlarge",
    "vcpuNum": 48
   },
   {
    "_defaultOrder": 10,
    "_isFastLaunch": false,
    "category": "General purpose",
    "gpuNum": 0,
    "hideHardwareSpecs": false,
    "memoryGiB": 256,
    "name": "ml.m5.16xlarge",
    "vcpuNum": 64
   },
   {
    "_defaultOrder": 11,
    "_isFastLaunch": false,
    "category": "General purpose",
    "gpuNum": 0,
    "hideHardwareSpecs": false,
    "memoryGiB": 384,
    "name": "ml.m5.24xlarge",
    "vcpuNum": 96
   },
   {
    "_defaultOrder": 12,
    "_isFastLaunch": false,
    "category": "General purpose",
    "gpuNum": 0,
    "hideHardwareSpecs": false,
    "memoryGiB": 8,
    "name": "ml.m5d.large",
    "vcpuNum": 2
   },
   {
    "_defaultOrder": 13,
    "_isFastLaunch": false,
    "category": "General purpose",
    "gpuNum": 0,
    "hideHardwareSpecs": false,
    "memoryGiB": 16,
    "name": "ml.m5d.xlarge",
    "vcpuNum": 4
   },
   {
    "_defaultOrder": 14,
    "_isFastLaunch": false,
    "category": "General purpose",
    "gpuNum": 0,
    "hideHardwareSpecs": false,
    "memoryGiB": 32,
    "name": "ml.m5d.2xlarge",
    "vcpuNum": 8
   },
   {
    "_defaultOrder": 15,
    "_isFastLaunch": false,
    "category": "General purpose",
    "gpuNum": 0,
    "hideHardwareSpecs": false,
    "memoryGiB": 64,
    "name": "ml.m5d.4xlarge",
    "vcpuNum": 16
   },
   {
    "_defaultOrder": 16,
    "_isFastLaunch": false,
    "category": "General purpose",
    "gpuNum": 0,
    "hideHardwareSpecs": false,
    "memoryGiB": 128,
    "name": "ml.m5d.8xlarge",
    "vcpuNum": 32
   },
   {
    "_defaultOrder": 17,
    "_isFastLaunch": false,
    "category": "General purpose",
    "gpuNum": 0,
    "hideHardwareSpecs": false,
    "memoryGiB": 192,
    "name": "ml.m5d.12xlarge",
    "vcpuNum": 48
   },
   {
    "_defaultOrder": 18,
    "_isFastLaunch": false,
    "category": "General purpose",
    "gpuNum": 0,
    "hideHardwareSpecs": false,
    "memoryGiB": 256,
    "name": "ml.m5d.16xlarge",
    "vcpuNum": 64
   },
   {
    "_defaultOrder": 19,
    "_isFastLaunch": false,
    "category": "General purpose",
    "gpuNum": 0,
    "hideHardwareSpecs": false,
    "memoryGiB": 384,
    "name": "ml.m5d.24xlarge",
    "vcpuNum": 96
   },
   {
    "_defaultOrder": 20,
    "_isFastLaunch": false,
    "category": "General purpose",
    "gpuNum": 0,
    "hideHardwareSpecs": true,
    "memoryGiB": 0,
    "name": "ml.geospatial.interactive",
    "supportedImageNames": [
     "sagemaker-geospatial-v1-0"
    ],
    "vcpuNum": 0
   },
   {
    "_defaultOrder": 21,
    "_isFastLaunch": true,
    "category": "Compute optimized",
    "gpuNum": 0,
    "hideHardwareSpecs": false,
    "memoryGiB": 4,
    "name": "ml.c5.large",
    "vcpuNum": 2
   },
   {
    "_defaultOrder": 22,
    "_isFastLaunch": false,
    "category": "Compute optimized",
    "gpuNum": 0,
    "hideHardwareSpecs": false,
    "memoryGiB": 8,
    "name": "ml.c5.xlarge",
    "vcpuNum": 4
   },
   {
    "_defaultOrder": 23,
    "_isFastLaunch": false,
    "category": "Compute optimized",
    "gpuNum": 0,
    "hideHardwareSpecs": false,
    "memoryGiB": 16,
    "name": "ml.c5.2xlarge",
    "vcpuNum": 8
   },
   {
    "_defaultOrder": 24,
    "_isFastLaunch": false,
    "category": "Compute optimized",
    "gpuNum": 0,
    "hideHardwareSpecs": false,
    "memoryGiB": 32,
    "name": "ml.c5.4xlarge",
    "vcpuNum": 16
   },
   {
    "_defaultOrder": 25,
    "_isFastLaunch": false,
    "category": "Compute optimized",
    "gpuNum": 0,
    "hideHardwareSpecs": false,
    "memoryGiB": 72,
    "name": "ml.c5.9xlarge",
    "vcpuNum": 36
   },
   {
    "_defaultOrder": 26,
    "_isFastLaunch": false,
    "category": "Compute optimized",
    "gpuNum": 0,
    "hideHardwareSpecs": false,
    "memoryGiB": 96,
    "name": "ml.c5.12xlarge",
    "vcpuNum": 48
   },
   {
    "_defaultOrder": 27,
    "_isFastLaunch": false,
    "category": "Compute optimized",
    "gpuNum": 0,
    "hideHardwareSpecs": false,
    "memoryGiB": 144,
    "name": "ml.c5.18xlarge",
    "vcpuNum": 72
   },
   {
    "_defaultOrder": 28,
    "_isFastLaunch": false,
    "category": "Compute optimized",
    "gpuNum": 0,
    "hideHardwareSpecs": false,
    "memoryGiB": 192,
    "name": "ml.c5.24xlarge",
    "vcpuNum": 96
   },
   {
    "_defaultOrder": 29,
    "_isFastLaunch": true,
    "category": "Accelerated computing",
    "gpuNum": 1,
    "hideHardwareSpecs": false,
    "memoryGiB": 16,
    "name": "ml.g4dn.xlarge",
    "vcpuNum": 4
   },
   {
    "_defaultOrder": 30,
    "_isFastLaunch": false,
    "category": "Accelerated computing",
    "gpuNum": 1,
    "hideHardwareSpecs": false,
    "memoryGiB": 32,
    "name": "ml.g4dn.2xlarge",
    "vcpuNum": 8
   },
   {
    "_defaultOrder": 31,
    "_isFastLaunch": false,
    "category": "Accelerated computing",
    "gpuNum": 1,
    "hideHardwareSpecs": false,
    "memoryGiB": 64,
    "name": "ml.g4dn.4xlarge",
    "vcpuNum": 16
   },
   {
    "_defaultOrder": 32,
    "_isFastLaunch": false,
    "category": "Accelerated computing",
    "gpuNum": 1,
    "hideHardwareSpecs": false,
    "memoryGiB": 128,
    "name": "ml.g4dn.8xlarge",
    "vcpuNum": 32
   },
   {
    "_defaultOrder": 33,
    "_isFastLaunch": false,
    "category": "Accelerated computing",
    "gpuNum": 4,
    "hideHardwareSpecs": false,
    "memoryGiB": 192,
    "name": "ml.g4dn.12xlarge",
    "vcpuNum": 48
   },
   {
    "_defaultOrder": 34,
    "_isFastLaunch": false,
    "category": "Accelerated computing",
    "gpuNum": 1,
    "hideHardwareSpecs": false,
    "memoryGiB": 256,
    "name": "ml.g4dn.16xlarge",
    "vcpuNum": 64
   },
   {
    "_defaultOrder": 35,
    "_isFastLaunch": false,
    "category": "Accelerated computing",
    "gpuNum": 1,
    "hideHardwareSpecs": false,
    "memoryGiB": 61,
    "name": "ml.p3.2xlarge",
    "vcpuNum": 8
   },
   {
    "_defaultOrder": 36,
    "_isFastLaunch": false,
    "category": "Accelerated computing",
    "gpuNum": 4,
    "hideHardwareSpecs": false,
    "memoryGiB": 244,
    "name": "ml.p3.8xlarge",
    "vcpuNum": 32
   },
   {
    "_defaultOrder": 37,
    "_isFastLaunch": false,
    "category": "Accelerated computing",
    "gpuNum": 8,
    "hideHardwareSpecs": false,
    "memoryGiB": 488,
    "name": "ml.p3.16xlarge",
    "vcpuNum": 64
   },
   {
    "_defaultOrder": 38,
    "_isFastLaunch": false,
    "category": "Accelerated computing",
    "gpuNum": 8,
    "hideHardwareSpecs": false,
    "memoryGiB": 768,
    "name": "ml.p3dn.24xlarge",
    "vcpuNum": 96
   },
   {
    "_defaultOrder": 39,
    "_isFastLaunch": false,
    "category": "Memory Optimized",
    "gpuNum": 0,
    "hideHardwareSpecs": false,
    "memoryGiB": 16,
    "name": "ml.r5.large",
    "vcpuNum": 2
   },
   {
    "_defaultOrder": 40,
    "_isFastLaunch": false,
    "category": "Memory Optimized",
    "gpuNum": 0,
    "hideHardwareSpecs": false,
    "memoryGiB": 32,
    "name": "ml.r5.xlarge",
    "vcpuNum": 4
   },
   {
    "_defaultOrder": 41,
    "_isFastLaunch": false,
    "category": "Memory Optimized",
    "gpuNum": 0,
    "hideHardwareSpecs": false,
    "memoryGiB": 64,
    "name": "ml.r5.2xlarge",
    "vcpuNum": 8
   },
   {
    "_defaultOrder": 42,
    "_isFastLaunch": false,
    "category": "Memory Optimized",
    "gpuNum": 0,
    "hideHardwareSpecs": false,
    "memoryGiB": 128,
    "name": "ml.r5.4xlarge",
    "vcpuNum": 16
   },
   {
    "_defaultOrder": 43,
    "_isFastLaunch": false,
    "category": "Memory Optimized",
    "gpuNum": 0,
    "hideHardwareSpecs": false,
    "memoryGiB": 256,
    "name": "ml.r5.8xlarge",
    "vcpuNum": 32
   },
   {
    "_defaultOrder": 44,
    "_isFastLaunch": false,
    "category": "Memory Optimized",
    "gpuNum": 0,
    "hideHardwareSpecs": false,
    "memoryGiB": 384,
    "name": "ml.r5.12xlarge",
    "vcpuNum": 48
   },
   {
    "_defaultOrder": 45,
    "_isFastLaunch": false,
    "category": "Memory Optimized",
    "gpuNum": 0,
    "hideHardwareSpecs": false,
    "memoryGiB": 512,
    "name": "ml.r5.16xlarge",
    "vcpuNum": 64
   },
   {
    "_defaultOrder": 46,
    "_isFastLaunch": false,
    "category": "Memory Optimized",
    "gpuNum": 0,
    "hideHardwareSpecs": false,
    "memoryGiB": 768,
    "name": "ml.r5.24xlarge",
    "vcpuNum": 96
   },
   {
    "_defaultOrder": 47,
    "_isFastLaunch": false,
    "category": "Accelerated computing",
    "gpuNum": 1,
    "hideHardwareSpecs": false,
    "memoryGiB": 16,
    "name": "ml.g5.xlarge",
    "vcpuNum": 4
   },
   {
    "_defaultOrder": 48,
    "_isFastLaunch": false,
    "category": "Accelerated computing",
    "gpuNum": 1,
    "hideHardwareSpecs": false,
    "memoryGiB": 32,
    "name": "ml.g5.2xlarge",
    "vcpuNum": 8
   },
   {
    "_defaultOrder": 49,
    "_isFastLaunch": false,
    "category": "Accelerated computing",
    "gpuNum": 1,
    "hideHardwareSpecs": false,
    "memoryGiB": 64,
    "name": "ml.g5.4xlarge",
    "vcpuNum": 16
   },
   {
    "_defaultOrder": 50,
    "_isFastLaunch": false,
    "category": "Accelerated computing",
    "gpuNum": 1,
    "hideHardwareSpecs": false,
    "memoryGiB": 128,
    "name": "ml.g5.8xlarge",
    "vcpuNum": 32
   },
   {
    "_defaultOrder": 51,
    "_isFastLaunch": false,
    "category": "Accelerated computing",
    "gpuNum": 1,
    "hideHardwareSpecs": false,
    "memoryGiB": 256,
    "name": "ml.g5.16xlarge",
    "vcpuNum": 64
   },
   {
    "_defaultOrder": 52,
    "_isFastLaunch": false,
    "category": "Accelerated computing",
    "gpuNum": 4,
    "hideHardwareSpecs": false,
    "memoryGiB": 192,
    "name": "ml.g5.12xlarge",
    "vcpuNum": 48
   },
   {
    "_defaultOrder": 53,
    "_isFastLaunch": false,
    "category": "Accelerated computing",
    "gpuNum": 4,
    "hideHardwareSpecs": false,
    "memoryGiB": 384,
    "name": "ml.g5.24xlarge",
    "vcpuNum": 96
   },
   {
    "_defaultOrder": 54,
    "_isFastLaunch": false,
    "category": "Accelerated computing",
    "gpuNum": 8,
    "hideHardwareSpecs": false,
    "memoryGiB": 768,
    "name": "ml.g5.48xlarge",
    "vcpuNum": 192
   },
   {
    "_defaultOrder": 55,
    "_isFastLaunch": false,
    "category": "Accelerated computing",
    "gpuNum": 8,
    "hideHardwareSpecs": false,
    "memoryGiB": 1152,
    "name": "ml.p4d.24xlarge",
    "vcpuNum": 96
   },
   {
    "_defaultOrder": 56,
    "_isFastLaunch": false,
    "category": "Accelerated computing",
    "gpuNum": 8,
    "hideHardwareSpecs": false,
    "memoryGiB": 1152,
    "name": "ml.p4de.24xlarge",
    "vcpuNum": 96
   },
   {
    "_defaultOrder": 57,
    "_isFastLaunch": false,
    "category": "Accelerated computing",
    "gpuNum": 0,
    "hideHardwareSpecs": false,
    "memoryGiB": 32,
    "name": "ml.trn1.2xlarge",
    "vcpuNum": 8
   },
   {
    "_defaultOrder": 58,
    "_isFastLaunch": false,
    "category": "Accelerated computing",
    "gpuNum": 0,
    "hideHardwareSpecs": false,
    "memoryGiB": 512,
    "name": "ml.trn1.32xlarge",
    "vcpuNum": 128
   },
   {
    "_defaultOrder": 59,
    "_isFastLaunch": false,
    "category": "Accelerated computing",
    "gpuNum": 0,
    "hideHardwareSpecs": false,
    "memoryGiB": 512,
    "name": "ml.trn1n.32xlarge",
    "vcpuNum": 128
   }
  ],
  "instance_type": "ml.t3.medium",
  "kernelspec": {
   "display_name": "Python 3 (ipykernel)",
   "language": "python",
   "name": "python3"
  },
  "language_info": {
   "codemirror_mode": {
    "name": "ipython",
    "version": 3
   },
   "file_extension": ".py",
   "mimetype": "text/x-python",
   "name": "python",
   "nbconvert_exporter": "python",
   "pygments_lexer": "ipython3",
   "version": "3.11.6"
  }
 },
 "nbformat": 4,
 "nbformat_minor": 5
}
